{
 "cells": [
  {
   "cell_type": "code",
   "execution_count": 2,
   "metadata": {
    "collapsed": true
   },
   "outputs": [],
   "source": [
    "import numpy as np\n",
    "import pandas as pd\n",
    "import matplotlib as plt\n",
    "my_arr = np.arange(1000000)\n",
    "my_list = list(range(1000000))"
   ]
  },
  {
   "cell_type": "code",
   "execution_count": 8,
   "metadata": {
    "collapsed": false
   },
   "outputs": [
    {
     "data": {
      "text/plain": [
       "array([[-0.60176206, -0.59052325, -0.26950474],\n",
       "       [ 0.64594784, -0.94874802, -0.44985541]])"
      ]
     },
     "execution_count": 8,
     "metadata": {},
     "output_type": "execute_result"
    }
   ],
   "source": [
    "data = np.random.randn(2,3)\n",
    "data"
   ]
  },
  {
   "cell_type": "code",
   "execution_count": 9,
   "metadata": {
    "collapsed": false
   },
   "outputs": [
    {
     "data": {
      "text/plain": [
       "array([[-6.01762057, -5.90523249, -2.69504738],\n",
       "       [ 6.45947837, -9.48748016, -4.4985541 ]])"
      ]
     },
     "execution_count": 9,
     "metadata": {},
     "output_type": "execute_result"
    }
   ],
   "source": [
    "data*10"
   ]
  },
  {
   "cell_type": "code",
   "execution_count": 10,
   "metadata": {
    "collapsed": false
   },
   "outputs": [
    {
     "data": {
      "text/plain": [
       "array([[-1.20352411, -1.1810465 , -0.53900948],\n",
       "       [ 1.29189567, -1.89749603, -0.89971082]])"
      ]
     },
     "execution_count": 10,
     "metadata": {},
     "output_type": "execute_result"
    }
   ],
   "source": [
    "data+data"
   ]
  },
  {
   "cell_type": "code",
   "execution_count": 13,
   "metadata": {
    "collapsed": false
   },
   "outputs": [
    {
     "data": {
      "text/plain": [
       "(2, 3)"
      ]
     },
     "execution_count": 13,
     "metadata": {},
     "output_type": "execute_result"
    }
   ],
   "source": [
    "data.shape"
   ]
  },
  {
   "cell_type": "code",
   "execution_count": 15,
   "metadata": {
    "collapsed": false
   },
   "outputs": [
    {
     "data": {
      "text/plain": [
       "dtype('float64')"
      ]
     },
     "execution_count": 15,
     "metadata": {},
     "output_type": "execute_result"
    }
   ],
   "source": [
    "data.dtype"
   ]
  },
  {
   "cell_type": "code",
   "execution_count": 18,
   "metadata": {
    "collapsed": false
   },
   "outputs": [
    {
     "data": {
      "text/plain": [
       "[6, 7, 5, 8, 0, 1]"
      ]
     },
     "execution_count": 18,
     "metadata": {},
     "output_type": "execute_result"
    }
   ],
   "source": [
    "data1 = [6,7,5,8,0,1]\n",
    "data1"
   ]
  },
  {
   "cell_type": "code",
   "execution_count": 17,
   "metadata": {
    "collapsed": false
   },
   "outputs": [
    {
     "data": {
      "text/plain": [
       "array([6, 7, 5, 8, 0, 1])"
      ]
     },
     "execution_count": 17,
     "metadata": {},
     "output_type": "execute_result"
    }
   ],
   "source": [
    "arr1 = np.array(data1)\n",
    "arr1"
   ]
  },
  {
   "cell_type": "code",
   "execution_count": 25,
   "metadata": {
    "collapsed": false
   },
   "outputs": [
    {
     "data": {
      "text/plain": [
       "[[6, 7, 5, 8, 0, 1], [1, 2, 3, 4, 5, 6]]"
      ]
     },
     "execution_count": 25,
     "metadata": {},
     "output_type": "execute_result"
    }
   ],
   "source": [
    "data2 = [[6,7,5,8,0,1],[1,2,3,4,5,6]]\n",
    "data2"
   ]
  },
  {
   "cell_type": "code",
   "execution_count": 26,
   "metadata": {
    "collapsed": false
   },
   "outputs": [
    {
     "data": {
      "text/plain": [
       "array([[6, 7, 5, 8, 0, 1],\n",
       "       [1, 2, 3, 4, 5, 6]])"
      ]
     },
     "execution_count": 26,
     "metadata": {},
     "output_type": "execute_result"
    }
   ],
   "source": [
    "arr2 = np.array(data2)\n",
    "arr2"
   ]
  },
  {
   "cell_type": "code",
   "execution_count": 27,
   "metadata": {
    "collapsed": false
   },
   "outputs": [
    {
     "data": {
      "text/plain": [
       "array([0., 0., 0., 0., 0., 0., 0., 0., 0., 0.])"
      ]
     },
     "execution_count": 27,
     "metadata": {},
     "output_type": "execute_result"
    }
   ],
   "source": [
    "np.zeros(10)"
   ]
  },
  {
   "cell_type": "code",
   "execution_count": 31,
   "metadata": {
    "collapsed": false
   },
   "outputs": [
    {
     "data": {
      "text/plain": [
       "array([[1., 1., 1., 1., 1., 1.],\n",
       "       [1., 1., 1., 1., 1., 1.],\n",
       "       [1., 1., 1., 1., 1., 1.]])"
      ]
     },
     "execution_count": 31,
     "metadata": {},
     "output_type": "execute_result"
    }
   ],
   "source": [
    "np.ones((3,6))"
   ]
  },
  {
   "cell_type": "code",
   "execution_count": 32,
   "metadata": {
    "collapsed": false
   },
   "outputs": [
    {
     "data": {
      "text/plain": [
       "array([[[1., 1., 1., 1.],\n",
       "        [1., 1., 1., 1.],\n",
       "        [1., 1., 1., 1.]],\n",
       "\n",
       "       [[1., 1., 1., 1.],\n",
       "        [1., 1., 1., 1.],\n",
       "        [1., 1., 1., 1.]]])"
      ]
     },
     "execution_count": 32,
     "metadata": {},
     "output_type": "execute_result"
    }
   ],
   "source": [
    "np.empty((2,3,4))"
   ]
  },
  {
   "cell_type": "markdown",
   "metadata": {},
   "source": [
    "arange 是range的数组版"
   ]
  },
  {
   "cell_type": "code",
   "execution_count": 40,
   "metadata": {
    "collapsed": false
   },
   "outputs": [
    {
     "data": {
      "text/plain": [
       "array([ 0,  1,  2,  3,  4,  5,  6,  7,  8,  9, 10, 11, 12, 13, 14])"
      ]
     },
     "execution_count": 40,
     "metadata": {},
     "output_type": "execute_result"
    }
   ],
   "source": [
    "np.arange(15)"
   ]
  },
  {
   "cell_type": "markdown",
   "metadata": {},
   "source": [
    "列表*数字 可以生成array数组"
   ]
  },
  {
   "cell_type": "code",
   "execution_count": 41,
   "metadata": {
    "collapsed": false
   },
   "outputs": [
    {
     "data": {
      "text/plain": [
       "array([3, 3, 3, 3, 3], dtype=int32)"
      ]
     },
     "execution_count": 41,
     "metadata": {},
     "output_type": "execute_result"
    }
   ],
   "source": [
    "np.array([3] * 5,dtype='int32')"
   ]
  },
  {
   "cell_type": "markdown",
   "metadata": {},
   "source": [
    "# pandas部分\n",
    "https://pyzh.readthedocs.io/en/latest/python-pandas.html"
   ]
  },
  {
   "cell_type": "code",
   "execution_count": 5,
   "metadata": {
    "collapsed": false
   },
   "outputs": [
    {
     "data": {
      "text/plain": [
       "0    1.0\n",
       "1    3.0\n",
       "2    5.0\n",
       "3    NaN\n",
       "4    6.0\n",
       "5    8.0\n",
       "dtype: float64"
      ]
     },
     "execution_count": 5,
     "metadata": {},
     "output_type": "execute_result"
    }
   ],
   "source": [
    "s = pd.Series([1,3,5,np.nan,6,8])\n",
    "s\n"
   ]
  },
  {
   "cell_type": "code",
   "execution_count": 8,
   "metadata": {
    "collapsed": false
   },
   "outputs": [
    {
     "data": {
      "text/plain": [
       "DatetimeIndex(['2019-10-03', '2019-10-04', '2019-10-05', '2019-10-06',\n",
       "               '2019-10-07', '2019-10-08'],\n",
       "              dtype='datetime64[ns]', freq='D')"
      ]
     },
     "execution_count": 8,
     "metadata": {},
     "output_type": "execute_result"
    }
   ],
   "source": [
    "dates = pd.date_range('20191003',periods=6)\n",
    "dates"
   ]
  },
  {
   "cell_type": "code",
   "execution_count": 21,
   "metadata": {
    "collapsed": false
   },
   "outputs": [
    {
     "data": {
      "text/html": [
       "<div>\n",
       "<table border=\"1\" class=\"dataframe\">\n",
       "  <thead>\n",
       "    <tr style=\"text-align: right;\">\n",
       "      <th></th>\n",
       "      <th>小爱同学</th>\n",
       "      <th>小米同学</th>\n",
       "      <th>小孙同学</th>\n",
       "      <th>小杨同学</th>\n",
       "    </tr>\n",
       "  </thead>\n",
       "  <tbody>\n",
       "    <tr>\n",
       "      <th>2019-10-03</th>\n",
       "      <td>-1.572427</td>\n",
       "      <td>0.733531</td>\n",
       "      <td>-0.539147</td>\n",
       "      <td>0.575574</td>\n",
       "    </tr>\n",
       "    <tr>\n",
       "      <th>2019-10-04</th>\n",
       "      <td>0.119424</td>\n",
       "      <td>0.773296</td>\n",
       "      <td>-0.342647</td>\n",
       "      <td>0.951565</td>\n",
       "    </tr>\n",
       "    <tr>\n",
       "      <th>2019-10-05</th>\n",
       "      <td>-1.019628</td>\n",
       "      <td>-1.661953</td>\n",
       "      <td>0.972271</td>\n",
       "      <td>0.159800</td>\n",
       "    </tr>\n",
       "    <tr>\n",
       "      <th>2019-10-06</th>\n",
       "      <td>-0.884763</td>\n",
       "      <td>-0.177808</td>\n",
       "      <td>0.199810</td>\n",
       "      <td>0.735441</td>\n",
       "    </tr>\n",
       "    <tr>\n",
       "      <th>2019-10-07</th>\n",
       "      <td>-0.800627</td>\n",
       "      <td>1.196700</td>\n",
       "      <td>0.913691</td>\n",
       "      <td>0.533029</td>\n",
       "    </tr>\n",
       "    <tr>\n",
       "      <th>2019-10-08</th>\n",
       "      <td>-0.946674</td>\n",
       "      <td>-0.399264</td>\n",
       "      <td>0.643931</td>\n",
       "      <td>-0.680529</td>\n",
       "    </tr>\n",
       "  </tbody>\n",
       "</table>\n",
       "</div>"
      ],
      "text/plain": [
       "                小爱同学      小米同学      小孙同学      小杨同学\n",
       "2019-10-03 -1.572427  0.733531 -0.539147  0.575574\n",
       "2019-10-04  0.119424  0.773296 -0.342647  0.951565\n",
       "2019-10-05 -1.019628 -1.661953  0.972271  0.159800\n",
       "2019-10-06 -0.884763 -0.177808  0.199810  0.735441\n",
       "2019-10-07 -0.800627  1.196700  0.913691  0.533029\n",
       "2019-10-08 -0.946674 -0.399264  0.643931 -0.680529"
      ]
     },
     "execution_count": 21,
     "metadata": {},
     "output_type": "execute_result"
    }
   ],
   "source": [
    "df = pd.DataFrame(np.random.randn(6,4),index = dates,columns = ['小爱同学','小米同学','小孙同学','小杨同学'])\n",
    "df"
   ]
  },
  {
   "cell_type": "markdown",
   "metadata": {},
   "source": [
    "传递字典对象来创建DataFrame"
   ]
  },
  {
   "cell_type": "code",
   "execution_count": 39,
   "metadata": {
    "collapsed": false
   },
   "outputs": [
    {
     "data": {
      "text/html": [
       "<div>\n",
       "<table border=\"1\" class=\"dataframe\">\n",
       "  <thead>\n",
       "    <tr style=\"text-align: right;\">\n",
       "      <th></th>\n",
       "      <th>A</th>\n",
       "      <th>B</th>\n",
       "      <th>C</th>\n",
       "      <th>D</th>\n",
       "      <th>E</th>\n",
       "      <th>F</th>\n",
       "    </tr>\n",
       "  </thead>\n",
       "  <tbody>\n",
       "    <tr>\n",
       "      <th>0</th>\n",
       "      <td>1.0</td>\n",
       "      <td>2013-01-02</td>\n",
       "      <td>1.0</td>\n",
       "      <td>3</td>\n",
       "      <td>test</td>\n",
       "      <td>foo</td>\n",
       "    </tr>\n",
       "    <tr>\n",
       "      <th>1</th>\n",
       "      <td>1.0</td>\n",
       "      <td>2013-01-02</td>\n",
       "      <td>1.0</td>\n",
       "      <td>3</td>\n",
       "      <td>train</td>\n",
       "      <td>foo</td>\n",
       "    </tr>\n",
       "    <tr>\n",
       "      <th>2</th>\n",
       "      <td>1.0</td>\n",
       "      <td>2013-01-02</td>\n",
       "      <td>1.0</td>\n",
       "      <td>3</td>\n",
       "      <td>test</td>\n",
       "      <td>foo</td>\n",
       "    </tr>\n",
       "    <tr>\n",
       "      <th>3</th>\n",
       "      <td>1.0</td>\n",
       "      <td>2013-01-02</td>\n",
       "      <td>1.0</td>\n",
       "      <td>3</td>\n",
       "      <td>train</td>\n",
       "      <td>foo</td>\n",
       "    </tr>\n",
       "    <tr>\n",
       "      <th>4</th>\n",
       "      <td>1.0</td>\n",
       "      <td>2013-01-02</td>\n",
       "      <td>1.0</td>\n",
       "      <td>3</td>\n",
       "      <td>wd</td>\n",
       "      <td>foo</td>\n",
       "    </tr>\n",
       "  </tbody>\n",
       "</table>\n",
       "</div>"
      ],
      "text/plain": [
       "     A          B    C  D      E    F\n",
       "0  1.0 2013-01-02  1.0  3   test  foo\n",
       "1  1.0 2013-01-02  1.0  3  train  foo\n",
       "2  1.0 2013-01-02  1.0  3   test  foo\n",
       "3  1.0 2013-01-02  1.0  3  train  foo\n",
       "4  1.0 2013-01-02  1.0  3     wd  foo"
      ]
     },
     "execution_count": 39,
     "metadata": {},
     "output_type": "execute_result"
    }
   ],
   "source": [
    "df2 = pd.DataFrame( {\n",
    "                        'A' : 1.,\n",
    "                        #单个值自适应表格\n",
    "                       'B' : pd.Timestamp('20130102'),\n",
    "                        #pd.Timestamp时间格式转换\n",
    "                       'C' : pd.Series(1,index=list(range(5)),dtype='float32'),\n",
    "                        #Series可以拼成DataFrame\n",
    "                       'D' : np.array([3] * 5,dtype='int32'),\n",
    "                        #np.array 也可以生成DataFrame\n",
    "                       'E' : pd.Categorical([\"test\",\"train\",\"test\",\"train\",'wd']),\n",
    "                        #Categorical 是分类变量\n",
    "                       'F' : 'foo' }\n",
    "                     )\n",
    "\n",
    "df2\n"
   ]
  },
  {
   "cell_type": "markdown",
   "metadata": {},
   "source": [
    "查看各列的dtypes"
   ]
  },
  {
   "cell_type": "code",
   "execution_count": 45,
   "metadata": {
    "collapsed": false
   },
   "outputs": [
    {
     "data": {
      "text/plain": [
       "A           float64\n",
       "B    datetime64[ns]\n",
       "C           float32\n",
       "D             int32\n",
       "E          category\n",
       "F            object\n",
       "dtype: object"
      ]
     },
     "execution_count": 45,
     "metadata": {},
     "output_type": "execute_result"
    }
   ],
   "source": [
    "df2.dtypes"
   ]
  },
  {
   "cell_type": "code",
   "execution_count": 48,
   "metadata": {
    "collapsed": false
   },
   "outputs": [
    {
     "data": {
      "text/plain": [
       "0    1.0\n",
       "1    1.0\n",
       "2    1.0\n",
       "3    1.0\n",
       "4    1.0\n",
       "Name: A, dtype: float64"
      ]
     },
     "execution_count": 48,
     "metadata": {},
     "output_type": "execute_result"
    }
   ],
   "source": [
    "df2.A"
   ]
  },
  {
   "cell_type": "code",
   "execution_count": 50,
   "metadata": {
    "collapsed": false
   },
   "outputs": [
    {
     "data": {
      "text/html": [
       "<div>\n",
       "<table border=\"1\" class=\"dataframe\">\n",
       "  <thead>\n",
       "    <tr style=\"text-align: right;\">\n",
       "      <th></th>\n",
       "      <th>小爱同学</th>\n",
       "      <th>小米同学</th>\n",
       "      <th>小孙同学</th>\n",
       "      <th>小杨同学</th>\n",
       "    </tr>\n",
       "  </thead>\n",
       "  <tbody>\n",
       "    <tr>\n",
       "      <th>2019-10-03</th>\n",
       "      <td>-1.572427</td>\n",
       "      <td>0.733531</td>\n",
       "      <td>-0.539147</td>\n",
       "      <td>0.575574</td>\n",
       "    </tr>\n",
       "    <tr>\n",
       "      <th>2019-10-04</th>\n",
       "      <td>0.119424</td>\n",
       "      <td>0.773296</td>\n",
       "      <td>-0.342647</td>\n",
       "      <td>0.951565</td>\n",
       "    </tr>\n",
       "    <tr>\n",
       "      <th>2019-10-05</th>\n",
       "      <td>-1.019628</td>\n",
       "      <td>-1.661953</td>\n",
       "      <td>0.972271</td>\n",
       "      <td>0.159800</td>\n",
       "    </tr>\n",
       "    <tr>\n",
       "      <th>2019-10-06</th>\n",
       "      <td>-0.884763</td>\n",
       "      <td>-0.177808</td>\n",
       "      <td>0.199810</td>\n",
       "      <td>0.735441</td>\n",
       "    </tr>\n",
       "    <tr>\n",
       "      <th>2019-10-07</th>\n",
       "      <td>-0.800627</td>\n",
       "      <td>1.196700</td>\n",
       "      <td>0.913691</td>\n",
       "      <td>0.533029</td>\n",
       "    </tr>\n",
       "  </tbody>\n",
       "</table>\n",
       "</div>"
      ],
      "text/plain": [
       "                小爱同学      小米同学      小孙同学      小杨同学\n",
       "2019-10-03 -1.572427  0.733531 -0.539147  0.575574\n",
       "2019-10-04  0.119424  0.773296 -0.342647  0.951565\n",
       "2019-10-05 -1.019628 -1.661953  0.972271  0.159800\n",
       "2019-10-06 -0.884763 -0.177808  0.199810  0.735441\n",
       "2019-10-07 -0.800627  1.196700  0.913691  0.533029"
      ]
     },
     "execution_count": 50,
     "metadata": {},
     "output_type": "execute_result"
    }
   ],
   "source": [
    "df.head()"
   ]
  },
  {
   "cell_type": "code",
   "execution_count": 65,
   "metadata": {
    "collapsed": false
   },
   "outputs": [
    {
     "name": "stdout",
     "output_type": "stream",
     "text": [
      "DatetimeIndex(['2019-10-03', '2019-10-04', '2019-10-05', '2019-10-06',\n",
      "               '2019-10-07', '2019-10-08'],\n",
      "              dtype='datetime64[ns]', freq='D') \n",
      "\n",
      "Index(['小爱同学', '小米同学', '小孙同学', '小杨同学'], dtype='object') \n",
      "\n",
      "[[-1.57242734  0.73353094 -0.53914682  0.57557421]\n",
      " [ 0.11942439  0.77329576 -0.34264689  0.95156461]\n",
      " [-1.0196285  -1.66195284  0.97227127  0.15979977]\n",
      " [-0.88476295 -0.17780817  0.19980957  0.73544104]\n",
      " [-0.80062707  1.19670032  0.91369057  0.5330293 ]\n",
      " [-0.94667433 -0.39926362  0.64393109 -0.68052872]] \n",
      "\n",
      "           小爱同学      小米同学      小孙同学      小杨同学\n",
      "count  6.000000  6.000000  6.000000  6.000000\n",
      "mean  -0.850783  0.077417  0.307985  0.379147\n",
      "std    0.548352  1.047406  0.643999  0.581016\n",
      "min   -1.572427 -1.661953 -0.539147 -0.680529\n",
      "25%   -1.001390 -0.343900 -0.207033  0.253107\n",
      "50%   -0.915719  0.277861  0.421870  0.554302\n",
      "75%   -0.821661  0.763355  0.846251  0.695474\n",
      "max    0.119424  1.196700  0.972271  0.951565 \n",
      "\n"
     ]
    }
   ],
   "source": [
    "print(df.index ,'\\n')\n",
    "print(df.columns,'\\n')\n",
    "print(df.values,'\\n')\n",
    "print(df.describe(),'\\n')"
   ]
  },
  {
   "cell_type": "markdown",
   "metadata": {},
   "source": [
    "按 axis 排序 axis =0是横轴 =1是纵轴"
   ]
  },
  {
   "cell_type": "code",
   "execution_count": 69,
   "metadata": {
    "collapsed": false
   },
   "outputs": [
    {
     "data": {
      "text/html": [
       "<div>\n",
       "<table border=\"1\" class=\"dataframe\">\n",
       "  <thead>\n",
       "    <tr style=\"text-align: right;\">\n",
       "      <th></th>\n",
       "      <th>小爱同学</th>\n",
       "      <th>小米同学</th>\n",
       "      <th>小孙同学</th>\n",
       "      <th>小杨同学</th>\n",
       "    </tr>\n",
       "  </thead>\n",
       "  <tbody>\n",
       "    <tr>\n",
       "      <th>2019-10-08</th>\n",
       "      <td>-0.946674</td>\n",
       "      <td>-0.399264</td>\n",
       "      <td>0.643931</td>\n",
       "      <td>-0.680529</td>\n",
       "    </tr>\n",
       "    <tr>\n",
       "      <th>2019-10-07</th>\n",
       "      <td>-0.800627</td>\n",
       "      <td>1.196700</td>\n",
       "      <td>0.913691</td>\n",
       "      <td>0.533029</td>\n",
       "    </tr>\n",
       "    <tr>\n",
       "      <th>2019-10-06</th>\n",
       "      <td>-0.884763</td>\n",
       "      <td>-0.177808</td>\n",
       "      <td>0.199810</td>\n",
       "      <td>0.735441</td>\n",
       "    </tr>\n",
       "    <tr>\n",
       "      <th>2019-10-05</th>\n",
       "      <td>-1.019628</td>\n",
       "      <td>-1.661953</td>\n",
       "      <td>0.972271</td>\n",
       "      <td>0.159800</td>\n",
       "    </tr>\n",
       "    <tr>\n",
       "      <th>2019-10-04</th>\n",
       "      <td>0.119424</td>\n",
       "      <td>0.773296</td>\n",
       "      <td>-0.342647</td>\n",
       "      <td>0.951565</td>\n",
       "    </tr>\n",
       "    <tr>\n",
       "      <th>2019-10-03</th>\n",
       "      <td>-1.572427</td>\n",
       "      <td>0.733531</td>\n",
       "      <td>-0.539147</td>\n",
       "      <td>0.575574</td>\n",
       "    </tr>\n",
       "  </tbody>\n",
       "</table>\n",
       "</div>"
      ],
      "text/plain": [
       "                小爱同学      小米同学      小孙同学      小杨同学\n",
       "2019-10-08 -0.946674 -0.399264  0.643931 -0.680529\n",
       "2019-10-07 -0.800627  1.196700  0.913691  0.533029\n",
       "2019-10-06 -0.884763 -0.177808  0.199810  0.735441\n",
       "2019-10-05 -1.019628 -1.661953  0.972271  0.159800\n",
       "2019-10-04  0.119424  0.773296 -0.342647  0.951565\n",
       "2019-10-03 -1.572427  0.733531 -0.539147  0.575574"
      ]
     },
     "execution_count": 69,
     "metadata": {},
     "output_type": "execute_result"
    }
   ],
   "source": [
    "df.sort_index(axis=0,ascending=False)"
   ]
  },
  {
   "cell_type": "code",
   "execution_count": 72,
   "metadata": {
    "collapsed": false
   },
   "outputs": [
    {
     "data": {
      "text/html": [
       "<div>\n",
       "<table border=\"1\" class=\"dataframe\">\n",
       "  <thead>\n",
       "    <tr style=\"text-align: right;\">\n",
       "      <th></th>\n",
       "      <th>小爱同学</th>\n",
       "      <th>小米同学</th>\n",
       "      <th>小孙同学</th>\n",
       "      <th>小杨同学</th>\n",
       "    </tr>\n",
       "  </thead>\n",
       "  <tbody>\n",
       "    <tr>\n",
       "      <th>2019-10-03</th>\n",
       "      <td>-1.572427</td>\n",
       "      <td>0.733531</td>\n",
       "      <td>-0.539147</td>\n",
       "      <td>0.575574</td>\n",
       "    </tr>\n",
       "    <tr>\n",
       "      <th>2019-10-05</th>\n",
       "      <td>-1.019628</td>\n",
       "      <td>-1.661953</td>\n",
       "      <td>0.972271</td>\n",
       "      <td>0.159800</td>\n",
       "    </tr>\n",
       "    <tr>\n",
       "      <th>2019-10-08</th>\n",
       "      <td>-0.946674</td>\n",
       "      <td>-0.399264</td>\n",
       "      <td>0.643931</td>\n",
       "      <td>-0.680529</td>\n",
       "    </tr>\n",
       "    <tr>\n",
       "      <th>2019-10-06</th>\n",
       "      <td>-0.884763</td>\n",
       "      <td>-0.177808</td>\n",
       "      <td>0.199810</td>\n",
       "      <td>0.735441</td>\n",
       "    </tr>\n",
       "    <tr>\n",
       "      <th>2019-10-07</th>\n",
       "      <td>-0.800627</td>\n",
       "      <td>1.196700</td>\n",
       "      <td>0.913691</td>\n",
       "      <td>0.533029</td>\n",
       "    </tr>\n",
       "    <tr>\n",
       "      <th>2019-10-04</th>\n",
       "      <td>0.119424</td>\n",
       "      <td>0.773296</td>\n",
       "      <td>-0.342647</td>\n",
       "      <td>0.951565</td>\n",
       "    </tr>\n",
       "  </tbody>\n",
       "</table>\n",
       "</div>"
      ],
      "text/plain": [
       "                小爱同学      小米同学      小孙同学      小杨同学\n",
       "2019-10-03 -1.572427  0.733531 -0.539147  0.575574\n",
       "2019-10-05 -1.019628 -1.661953  0.972271  0.159800\n",
       "2019-10-08 -0.946674 -0.399264  0.643931 -0.680529\n",
       "2019-10-06 -0.884763 -0.177808  0.199810  0.735441\n",
       "2019-10-07 -0.800627  1.196700  0.913691  0.533029\n",
       "2019-10-04  0.119424  0.773296 -0.342647  0.951565"
      ]
     },
     "execution_count": 72,
     "metadata": {},
     "output_type": "execute_result"
    }
   ],
   "source": [
    "df.sort_values(by='小爱同学')"
   ]
  },
  {
   "cell_type": "markdown",
   "metadata": {},
   "source": [
    "df['A']相当于df.A"
   ]
  },
  {
   "cell_type": "code",
   "execution_count": 74,
   "metadata": {
    "collapsed": false
   },
   "outputs": [
    {
     "data": {
      "text/plain": [
       "0    1.0\n",
       "1    1.0\n",
       "2    1.0\n",
       "3    1.0\n",
       "4    1.0\n",
       "Name: A, dtype: float64"
      ]
     },
     "execution_count": 74,
     "metadata": {},
     "output_type": "execute_result"
    }
   ],
   "source": [
    "df2['A']"
   ]
  },
  {
   "cell_type": "markdown",
   "metadata": {},
   "source": [
    "切片查询"
   ]
  },
  {
   "cell_type": "code",
   "execution_count": 75,
   "metadata": {
    "collapsed": false
   },
   "outputs": [
    {
     "data": {
      "text/html": [
       "<div>\n",
       "<table border=\"1\" class=\"dataframe\">\n",
       "  <thead>\n",
       "    <tr style=\"text-align: right;\">\n",
       "      <th></th>\n",
       "      <th>小爱同学</th>\n",
       "      <th>小米同学</th>\n",
       "      <th>小孙同学</th>\n",
       "      <th>小杨同学</th>\n",
       "    </tr>\n",
       "  </thead>\n",
       "  <tbody>\n",
       "    <tr>\n",
       "      <th>2019-10-03</th>\n",
       "      <td>-1.572427</td>\n",
       "      <td>0.733531</td>\n",
       "      <td>-0.539147</td>\n",
       "      <td>0.575574</td>\n",
       "    </tr>\n",
       "    <tr>\n",
       "      <th>2019-10-04</th>\n",
       "      <td>0.119424</td>\n",
       "      <td>0.773296</td>\n",
       "      <td>-0.342647</td>\n",
       "      <td>0.951565</td>\n",
       "    </tr>\n",
       "    <tr>\n",
       "      <th>2019-10-05</th>\n",
       "      <td>-1.019628</td>\n",
       "      <td>-1.661953</td>\n",
       "      <td>0.972271</td>\n",
       "      <td>0.159800</td>\n",
       "    </tr>\n",
       "  </tbody>\n",
       "</table>\n",
       "</div>"
      ],
      "text/plain": [
       "                小爱同学      小米同学      小孙同学      小杨同学\n",
       "2019-10-03 -1.572427  0.733531 -0.539147  0.575574\n",
       "2019-10-04  0.119424  0.773296 -0.342647  0.951565\n",
       "2019-10-05 -1.019628 -1.661953  0.972271  0.159800"
      ]
     },
     "execution_count": 75,
     "metadata": {},
     "output_type": "execute_result"
    }
   ],
   "source": [
    "df[0:3]"
   ]
  },
  {
   "cell_type": "markdown",
   "metadata": {},
   "source": [
    "标签式选择"
   ]
  },
  {
   "cell_type": "code",
   "execution_count": 79,
   "metadata": {
    "collapsed": false
   },
   "outputs": [
    {
     "name": "stdout",
     "output_type": "stream",
     "text": [
      "小爱同学    0.119424\n",
      "小米同学    0.773296\n",
      "小孙同学   -0.342647\n",
      "小杨同学    0.951565\n",
      "Name: 2019-10-04 00:00:00, dtype: float64\n"
     ]
    },
    {
     "data": {
      "text/plain": [
       "小爱同学   -1.572427\n",
       "小米同学    0.733531\n",
       "小孙同学   -0.539147\n",
       "小杨同学    0.575574\n",
       "Name: 2019-10-03 00:00:00, dtype: float64"
      ]
     },
     "execution_count": 79,
     "metadata": {},
     "output_type": "execute_result"
    }
   ],
   "source": [
    "print(df.loc['2019-10-04'])\n",
    "df.loc[dates[0]]"
   ]
  },
  {
   "cell_type": "markdown",
   "metadata": {},
   "source": [
    "通过标签获得多轴数据"
   ]
  },
  {
   "cell_type": "code",
   "execution_count": 91,
   "metadata": {
    "collapsed": false
   },
   "outputs": [
    {
     "name": "stdout",
     "output_type": "stream",
     "text": [
      "                小爱同学      小孙同学\n",
      "2019-10-03 -1.572427 -0.539147\n",
      "2019-10-04  0.119424 -0.342647\n",
      "2019-10-05 -1.019628  0.972271\n",
      "2019-10-06 -0.884763  0.199810\n"
     ]
    },
    {
     "data": {
      "text/html": [
       "<div>\n",
       "<table border=\"1\" class=\"dataframe\">\n",
       "  <thead>\n",
       "    <tr style=\"text-align: right;\">\n",
       "      <th></th>\n",
       "      <th>小爱同学</th>\n",
       "      <th>小孙同学</th>\n",
       "    </tr>\n",
       "  </thead>\n",
       "  <tbody>\n",
       "    <tr>\n",
       "      <th>2019-10-03</th>\n",
       "      <td>-1.572427</td>\n",
       "      <td>-0.539147</td>\n",
       "    </tr>\n",
       "    <tr>\n",
       "      <th>2019-10-04</th>\n",
       "      <td>0.119424</td>\n",
       "      <td>-0.342647</td>\n",
       "    </tr>\n",
       "    <tr>\n",
       "      <th>2019-10-05</th>\n",
       "      <td>-1.019628</td>\n",
       "      <td>0.972271</td>\n",
       "    </tr>\n",
       "  </tbody>\n",
       "</table>\n",
       "</div>"
      ],
      "text/plain": [
       "                小爱同学      小孙同学\n",
       "2019-10-03 -1.572427 -0.539147\n",
       "2019-10-04  0.119424 -0.342647\n",
       "2019-10-05 -1.019628  0.972271"
      ]
     },
     "execution_count": 91,
     "metadata": {},
     "output_type": "execute_result"
    }
   ],
   "source": [
    "print(df.loc[dates[0]:dates[3],['小爱同学','小孙同学']])\n",
    "df.loc['2019-10-03':'2019-10-05',['小爱同学','小孙同学']]"
   ]
  },
  {
   "cell_type": "code",
   "execution_count": 88,
   "metadata": {
    "collapsed": false
   },
   "outputs": [
    {
     "data": {
      "text/plain": [
       "小爱同学   -1.572427\n",
       "小孙同学   -0.539147\n",
       "Name: 2019-10-03 00:00:00, dtype: float64"
      ]
     },
     "execution_count": 88,
     "metadata": {},
     "output_type": "execute_result"
    }
   ],
   "source": [
    "df.loc['2019-10-03',['小爱同学','小孙同学']]"
   ]
  },
  {
   "cell_type": "code",
   "execution_count": 92,
   "metadata": {
    "collapsed": false
   },
   "outputs": [
    {
     "data": {
      "text/plain": [
       "-1.5724273382937399"
      ]
     },
     "execution_count": 92,
     "metadata": {},
     "output_type": "execute_result"
    }
   ],
   "source": [
    "df.loc[dates[0],'小爱同学']"
   ]
  },
  {
   "cell_type": "markdown",
   "metadata": {},
   "source": [
    "位置式选择"
   ]
  },
  {
   "cell_type": "code",
   "execution_count": 94,
   "metadata": {
    "collapsed": false
   },
   "outputs": [
    {
     "data": {
      "text/plain": [
       "-0.884762947934712"
      ]
     },
     "execution_count": 94,
     "metadata": {},
     "output_type": "execute_result"
    }
   ],
   "source": [
    "df.iloc[3,0]"
   ]
  },
  {
   "cell_type": "code",
   "execution_count": 95,
   "metadata": {
    "collapsed": false
   },
   "outputs": [
    {
     "data": {
      "text/html": [
       "<div>\n",
       "<table border=\"1\" class=\"dataframe\">\n",
       "  <thead>\n",
       "    <tr style=\"text-align: right;\">\n",
       "      <th></th>\n",
       "      <th>小爱同学</th>\n",
       "      <th>小米同学</th>\n",
       "      <th>小孙同学</th>\n",
       "    </tr>\n",
       "  </thead>\n",
       "  <tbody>\n",
       "    <tr>\n",
       "      <th>2019-10-06</th>\n",
       "      <td>-0.884763</td>\n",
       "      <td>-0.177808</td>\n",
       "      <td>0.199810</td>\n",
       "    </tr>\n",
       "    <tr>\n",
       "      <th>2019-10-07</th>\n",
       "      <td>-0.800627</td>\n",
       "      <td>1.196700</td>\n",
       "      <td>0.913691</td>\n",
       "    </tr>\n",
       "    <tr>\n",
       "      <th>2019-10-08</th>\n",
       "      <td>-0.946674</td>\n",
       "      <td>-0.399264</td>\n",
       "      <td>0.643931</td>\n",
       "    </tr>\n",
       "  </tbody>\n",
       "</table>\n",
       "</div>"
      ],
      "text/plain": [
       "                小爱同学      小米同学      小孙同学\n",
       "2019-10-06 -0.884763 -0.177808  0.199810\n",
       "2019-10-07 -0.800627  1.196700  0.913691\n",
       "2019-10-08 -0.946674 -0.399264  0.643931"
      ]
     },
     "execution_count": 95,
     "metadata": {},
     "output_type": "execute_result"
    }
   ],
   "source": [
    "df.iloc[3:,0:3]"
   ]
  },
  {
   "cell_type": "markdown",
   "metadata": {},
   "source": [
    "指定列表位置"
   ]
  },
  {
   "cell_type": "code",
   "execution_count": 96,
   "metadata": {
    "collapsed": false
   },
   "outputs": [
    {
     "data": {
      "text/html": [
       "<div>\n",
       "<table border=\"1\" class=\"dataframe\">\n",
       "  <thead>\n",
       "    <tr style=\"text-align: right;\">\n",
       "      <th></th>\n",
       "      <th>小米同学</th>\n",
       "      <th>小孙同学</th>\n",
       "    </tr>\n",
       "  </thead>\n",
       "  <tbody>\n",
       "    <tr>\n",
       "      <th>2019-10-04</th>\n",
       "      <td>0.773296</td>\n",
       "      <td>-0.342647</td>\n",
       "    </tr>\n",
       "    <tr>\n",
       "      <th>2019-10-05</th>\n",
       "      <td>-1.661953</td>\n",
       "      <td>0.972271</td>\n",
       "    </tr>\n",
       "  </tbody>\n",
       "</table>\n",
       "</div>"
      ],
      "text/plain": [
       "                小米同学      小孙同学\n",
       "2019-10-04  0.773296 -0.342647\n",
       "2019-10-05 -1.661953  0.972271"
      ]
     },
     "execution_count": 96,
     "metadata": {},
     "output_type": "execute_result"
    }
   ],
   "source": [
    "df.iloc[[1,2],[1,2]]"
   ]
  },
  {
   "cell_type": "markdown",
   "metadata": {},
   "source": [
    "对行切片"
   ]
  },
  {
   "cell_type": "code",
   "execution_count": 97,
   "metadata": {
    "collapsed": false
   },
   "outputs": [
    {
     "data": {
      "text/html": [
       "<div>\n",
       "<table border=\"1\" class=\"dataframe\">\n",
       "  <thead>\n",
       "    <tr style=\"text-align: right;\">\n",
       "      <th></th>\n",
       "      <th>小爱同学</th>\n",
       "      <th>小米同学</th>\n",
       "      <th>小孙同学</th>\n",
       "      <th>小杨同学</th>\n",
       "    </tr>\n",
       "  </thead>\n",
       "  <tbody>\n",
       "    <tr>\n",
       "      <th>2019-10-03</th>\n",
       "      <td>-1.572427</td>\n",
       "      <td>0.733531</td>\n",
       "      <td>-0.539147</td>\n",
       "      <td>0.575574</td>\n",
       "    </tr>\n",
       "    <tr>\n",
       "      <th>2019-10-04</th>\n",
       "      <td>0.119424</td>\n",
       "      <td>0.773296</td>\n",
       "      <td>-0.342647</td>\n",
       "      <td>0.951565</td>\n",
       "    </tr>\n",
       "    <tr>\n",
       "      <th>2019-10-05</th>\n",
       "      <td>-1.019628</td>\n",
       "      <td>-1.661953</td>\n",
       "      <td>0.972271</td>\n",
       "      <td>0.159800</td>\n",
       "    </tr>\n",
       "    <tr>\n",
       "      <th>2019-10-06</th>\n",
       "      <td>-0.884763</td>\n",
       "      <td>-0.177808</td>\n",
       "      <td>0.199810</td>\n",
       "      <td>0.735441</td>\n",
       "    </tr>\n",
       "    <tr>\n",
       "      <th>2019-10-07</th>\n",
       "      <td>-0.800627</td>\n",
       "      <td>1.196700</td>\n",
       "      <td>0.913691</td>\n",
       "      <td>0.533029</td>\n",
       "    </tr>\n",
       "    <tr>\n",
       "      <th>2019-10-08</th>\n",
       "      <td>-0.946674</td>\n",
       "      <td>-0.399264</td>\n",
       "      <td>0.643931</td>\n",
       "      <td>-0.680529</td>\n",
       "    </tr>\n",
       "  </tbody>\n",
       "</table>\n",
       "</div>"
      ],
      "text/plain": [
       "                小爱同学      小米同学      小孙同学      小杨同学\n",
       "2019-10-03 -1.572427  0.733531 -0.539147  0.575574\n",
       "2019-10-04  0.119424  0.773296 -0.342647  0.951565\n",
       "2019-10-05 -1.019628 -1.661953  0.972271  0.159800\n",
       "2019-10-06 -0.884763 -0.177808  0.199810  0.735441\n",
       "2019-10-07 -0.800627  1.196700  0.913691  0.533029\n",
       "2019-10-08 -0.946674 -0.399264  0.643931 -0.680529"
      ]
     },
     "execution_count": 97,
     "metadata": {},
     "output_type": "execute_result"
    }
   ],
   "source": [
    "df.iloc[:,:]"
   ]
  },
  {
   "cell_type": "code",
   "execution_count": 99,
   "metadata": {
    "collapsed": false
   },
   "outputs": [
    {
     "data": {
      "text/plain": [
       "0.77329576442769421"
      ]
     },
     "execution_count": 99,
     "metadata": {},
     "output_type": "execute_result"
    }
   ],
   "source": [
    "df.iloc[1,1]"
   ]
  },
  {
   "cell_type": "markdown",
   "metadata": {},
   "source": [
    "boolean索引"
   ]
  },
  {
   "cell_type": "code",
   "execution_count": 101,
   "metadata": {
    "collapsed": false
   },
   "outputs": [
    {
     "data": {
      "text/html": [
       "<div>\n",
       "<table border=\"1\" class=\"dataframe\">\n",
       "  <thead>\n",
       "    <tr style=\"text-align: right;\">\n",
       "      <th></th>\n",
       "      <th>小爱同学</th>\n",
       "      <th>小米同学</th>\n",
       "      <th>小孙同学</th>\n",
       "      <th>小杨同学</th>\n",
       "    </tr>\n",
       "  </thead>\n",
       "  <tbody>\n",
       "    <tr>\n",
       "      <th>2019-10-04</th>\n",
       "      <td>0.119424</td>\n",
       "      <td>0.773296</td>\n",
       "      <td>-0.342647</td>\n",
       "      <td>0.951565</td>\n",
       "    </tr>\n",
       "  </tbody>\n",
       "</table>\n",
       "</div>"
      ],
      "text/plain": [
       "                小爱同学      小米同学      小孙同学      小杨同学\n",
       "2019-10-04  0.119424  0.773296 -0.342647  0.951565"
      ]
     },
     "execution_count": 101,
     "metadata": {},
     "output_type": "execute_result"
    }
   ],
   "source": [
    "df[df.小爱同学>0]"
   ]
  },
  {
   "cell_type": "code",
   "execution_count": 102,
   "metadata": {
    "collapsed": false
   },
   "outputs": [
    {
     "data": {
      "text/html": [
       "<div>\n",
       "<table border=\"1\" class=\"dataframe\">\n",
       "  <thead>\n",
       "    <tr style=\"text-align: right;\">\n",
       "      <th></th>\n",
       "      <th>小爱同学</th>\n",
       "      <th>小米同学</th>\n",
       "      <th>小孙同学</th>\n",
       "      <th>小杨同学</th>\n",
       "    </tr>\n",
       "  </thead>\n",
       "  <tbody>\n",
       "    <tr>\n",
       "      <th>2019-10-03</th>\n",
       "      <td>NaN</td>\n",
       "      <td>0.733531</td>\n",
       "      <td>NaN</td>\n",
       "      <td>0.575574</td>\n",
       "    </tr>\n",
       "    <tr>\n",
       "      <th>2019-10-04</th>\n",
       "      <td>0.119424</td>\n",
       "      <td>0.773296</td>\n",
       "      <td>NaN</td>\n",
       "      <td>0.951565</td>\n",
       "    </tr>\n",
       "    <tr>\n",
       "      <th>2019-10-05</th>\n",
       "      <td>NaN</td>\n",
       "      <td>NaN</td>\n",
       "      <td>0.972271</td>\n",
       "      <td>0.159800</td>\n",
       "    </tr>\n",
       "    <tr>\n",
       "      <th>2019-10-06</th>\n",
       "      <td>NaN</td>\n",
       "      <td>NaN</td>\n",
       "      <td>0.199810</td>\n",
       "      <td>0.735441</td>\n",
       "    </tr>\n",
       "    <tr>\n",
       "      <th>2019-10-07</th>\n",
       "      <td>NaN</td>\n",
       "      <td>1.196700</td>\n",
       "      <td>0.913691</td>\n",
       "      <td>0.533029</td>\n",
       "    </tr>\n",
       "    <tr>\n",
       "      <th>2019-10-08</th>\n",
       "      <td>NaN</td>\n",
       "      <td>NaN</td>\n",
       "      <td>0.643931</td>\n",
       "      <td>NaN</td>\n",
       "    </tr>\n",
       "  </tbody>\n",
       "</table>\n",
       "</div>"
      ],
      "text/plain": [
       "                小爱同学      小米同学      小孙同学      小杨同学\n",
       "2019-10-03       NaN  0.733531       NaN  0.575574\n",
       "2019-10-04  0.119424  0.773296       NaN  0.951565\n",
       "2019-10-05       NaN       NaN  0.972271  0.159800\n",
       "2019-10-06       NaN       NaN  0.199810  0.735441\n",
       "2019-10-07       NaN  1.196700  0.913691  0.533029\n",
       "2019-10-08       NaN       NaN  0.643931       NaN"
      ]
     },
     "execution_count": 102,
     "metadata": {},
     "output_type": "execute_result"
    }
   ],
   "source": [
    "df[df>0]"
   ]
  },
  {
   "cell_type": "code",
   "execution_count": 109,
   "metadata": {
    "collapsed": false
   },
   "outputs": [
    {
     "name": "stdout",
     "output_type": "stream",
     "text": [
      "                小爱同学      小米同学      小孙同学      小杨同学  小牛牛\n",
      "2019-10-03 -1.572427  0.733531 -0.539147  0.575574    1\n",
      "2019-10-04  0.119424  0.773296 -0.342647  0.951565    2\n",
      "                小爱同学      小米同学      小孙同学      小杨同学  小牛牛\n",
      "2019-10-03 -1.572427  0.733531 -0.539147  0.575574    1\n",
      "2019-10-04  0.119424  0.773296 -0.342647  0.951565    2\n",
      "2019-10-05 -1.019628 -1.661953  0.972271  0.159800    3\n",
      "2019-10-06 -0.884763 -0.177808  0.199810  0.735441    4\n",
      "2019-10-07 -0.800627  1.196700  0.913691  0.533029    5\n",
      "2019-10-08 -0.946674 -0.399264  0.643931 -0.680529    6\n"
     ]
    }
   ],
   "source": [
    "df2 = df.copy()\n",
    "df2['小牛牛']=[1,2,3,4,5,6]\n",
    "print(df2[df2['小牛牛'].isin([1,2])])\n",
    "print(df2)"
   ]
  },
  {
   "cell_type": "markdown",
   "metadata": {},
   "source": [
    "新增数据"
   ]
  },
  {
   "cell_type": "code",
   "execution_count": 117,
   "metadata": {
    "collapsed": false
   },
   "outputs": [
    {
     "data": {
      "text/html": [
       "<div>\n",
       "<table border=\"1\" class=\"dataframe\">\n",
       "  <thead>\n",
       "    <tr style=\"text-align: right;\">\n",
       "      <th></th>\n",
       "      <th>小爱同学</th>\n",
       "      <th>小米同学</th>\n",
       "      <th>小孙同学</th>\n",
       "      <th>小杨同学</th>\n",
       "      <th>小牛奶</th>\n",
       "    </tr>\n",
       "  </thead>\n",
       "  <tbody>\n",
       "    <tr>\n",
       "      <th>2019-10-03</th>\n",
       "      <td>-1.572427</td>\n",
       "      <td>0.733531</td>\n",
       "      <td>-0.539147</td>\n",
       "      <td>0.575574</td>\n",
       "      <td>1</td>\n",
       "    </tr>\n",
       "    <tr>\n",
       "      <th>2019-10-04</th>\n",
       "      <td>0.119424</td>\n",
       "      <td>0.773296</td>\n",
       "      <td>-0.342647</td>\n",
       "      <td>0.951565</td>\n",
       "      <td>2</td>\n",
       "    </tr>\n",
       "    <tr>\n",
       "      <th>2019-10-05</th>\n",
       "      <td>-1.019628</td>\n",
       "      <td>-1.661953</td>\n",
       "      <td>0.972271</td>\n",
       "      <td>0.159800</td>\n",
       "      <td>3</td>\n",
       "    </tr>\n",
       "    <tr>\n",
       "      <th>2019-10-06</th>\n",
       "      <td>-0.884763</td>\n",
       "      <td>-0.177808</td>\n",
       "      <td>0.199810</td>\n",
       "      <td>0.735441</td>\n",
       "      <td>4</td>\n",
       "    </tr>\n",
       "    <tr>\n",
       "      <th>2019-10-07</th>\n",
       "      <td>-0.800627</td>\n",
       "      <td>1.196700</td>\n",
       "      <td>0.913691</td>\n",
       "      <td>0.533029</td>\n",
       "      <td>5</td>\n",
       "    </tr>\n",
       "    <tr>\n",
       "      <th>2019-10-08</th>\n",
       "      <td>-0.946674</td>\n",
       "      <td>-0.399264</td>\n",
       "      <td>0.643931</td>\n",
       "      <td>-0.680529</td>\n",
       "      <td>6</td>\n",
       "    </tr>\n",
       "  </tbody>\n",
       "</table>\n",
       "</div>"
      ],
      "text/plain": [
       "                小爱同学      小米同学      小孙同学      小杨同学  小牛奶\n",
       "2019-10-03 -1.572427  0.733531 -0.539147  0.575574    1\n",
       "2019-10-04  0.119424  0.773296 -0.342647  0.951565    2\n",
       "2019-10-05 -1.019628 -1.661953  0.972271  0.159800    3\n",
       "2019-10-06 -0.884763 -0.177808  0.199810  0.735441    4\n",
       "2019-10-07 -0.800627  1.196700  0.913691  0.533029    5\n",
       "2019-10-08 -0.946674 -0.399264  0.643931 -0.680529    6"
      ]
     },
     "execution_count": 117,
     "metadata": {},
     "output_type": "execute_result"
    }
   ],
   "source": [
    "s1 = pd.Series([x for x in range(1,7)],index = pd.date_range('20191003',periods=6))\n",
    "s1\n",
    "df['小牛奶'] = s1\n",
    "df.loc[:,:]"
   ]
  },
  {
   "cell_type": "code",
   "execution_count": 120,
   "metadata": {
    "collapsed": false
   },
   "outputs": [
    {
     "data": {
      "text/html": [
       "<div>\n",
       "<table border=\"1\" class=\"dataframe\">\n",
       "  <thead>\n",
       "    <tr style=\"text-align: right;\">\n",
       "      <th></th>\n",
       "      <th>小爱同学</th>\n",
       "      <th>小米同学</th>\n",
       "      <th>小孙同学</th>\n",
       "      <th>小杨同学</th>\n",
       "      <th>小牛奶</th>\n",
       "    </tr>\n",
       "  </thead>\n",
       "  <tbody>\n",
       "    <tr>\n",
       "      <th>2019-10-03</th>\n",
       "      <td>10.000000</td>\n",
       "      <td>0.733531</td>\n",
       "      <td>-0.539147</td>\n",
       "      <td>0.575574</td>\n",
       "      <td>1</td>\n",
       "    </tr>\n",
       "    <tr>\n",
       "      <th>2019-10-04</th>\n",
       "      <td>0.119424</td>\n",
       "      <td>0.773296</td>\n",
       "      <td>-0.342647</td>\n",
       "      <td>0.951565</td>\n",
       "      <td>2</td>\n",
       "    </tr>\n",
       "    <tr>\n",
       "      <th>2019-10-05</th>\n",
       "      <td>-1.019628</td>\n",
       "      <td>-1.661953</td>\n",
       "      <td>0.972271</td>\n",
       "      <td>0.159800</td>\n",
       "      <td>3</td>\n",
       "    </tr>\n",
       "    <tr>\n",
       "      <th>2019-10-06</th>\n",
       "      <td>-0.884763</td>\n",
       "      <td>-0.177808</td>\n",
       "      <td>0.199810</td>\n",
       "      <td>0.735441</td>\n",
       "      <td>4</td>\n",
       "    </tr>\n",
       "    <tr>\n",
       "      <th>2019-10-07</th>\n",
       "      <td>-0.800627</td>\n",
       "      <td>1.196700</td>\n",
       "      <td>0.913691</td>\n",
       "      <td>0.533029</td>\n",
       "      <td>5</td>\n",
       "    </tr>\n",
       "    <tr>\n",
       "      <th>2019-10-08</th>\n",
       "      <td>-0.946674</td>\n",
       "      <td>-0.399264</td>\n",
       "      <td>0.643931</td>\n",
       "      <td>-0.680529</td>\n",
       "      <td>6</td>\n",
       "    </tr>\n",
       "  </tbody>\n",
       "</table>\n",
       "</div>"
      ],
      "text/plain": [
       "                 小爱同学      小米同学      小孙同学      小杨同学  小牛奶\n",
       "2019-10-03  10.000000  0.733531 -0.539147  0.575574    1\n",
       "2019-10-04   0.119424  0.773296 -0.342647  0.951565    2\n",
       "2019-10-05  -1.019628 -1.661953  0.972271  0.159800    3\n",
       "2019-10-06  -0.884763 -0.177808  0.199810  0.735441    4\n",
       "2019-10-07  -0.800627  1.196700  0.913691  0.533029    5\n",
       "2019-10-08  -0.946674 -0.399264  0.643931 -0.680529    6"
      ]
     },
     "execution_count": 120,
     "metadata": {},
     "output_type": "execute_result"
    }
   ],
   "source": [
    "df.loc[dates[0],'小爱同学']=10\n",
    "df"
   ]
  },
  {
   "cell_type": "code",
   "execution_count": 123,
   "metadata": {
    "collapsed": false
   },
   "outputs": [
    {
     "data": {
      "text/html": [
       "<div>\n",
       "<table border=\"1\" class=\"dataframe\">\n",
       "  <thead>\n",
       "    <tr style=\"text-align: right;\">\n",
       "      <th></th>\n",
       "      <th>小爱同学</th>\n",
       "      <th>小米同学</th>\n",
       "      <th>小孙同学</th>\n",
       "      <th>小杨同学</th>\n",
       "      <th>小牛奶</th>\n",
       "    </tr>\n",
       "  </thead>\n",
       "  <tbody>\n",
       "    <tr>\n",
       "      <th>2019-10-03</th>\n",
       "      <td>0.135335</td>\n",
       "      <td>0.733531</td>\n",
       "      <td>-0.539147</td>\n",
       "      <td>0.575574</td>\n",
       "      <td>1</td>\n",
       "    </tr>\n",
       "    <tr>\n",
       "      <th>2019-10-04</th>\n",
       "      <td>0.575279</td>\n",
       "      <td>0.773296</td>\n",
       "      <td>-0.342647</td>\n",
       "      <td>0.951565</td>\n",
       "      <td>2</td>\n",
       "    </tr>\n",
       "    <tr>\n",
       "      <th>2019-10-05</th>\n",
       "      <td>0.629984</td>\n",
       "      <td>-1.661953</td>\n",
       "      <td>0.972271</td>\n",
       "      <td>0.159800</td>\n",
       "      <td>3</td>\n",
       "    </tr>\n",
       "    <tr>\n",
       "      <th>2019-10-06</th>\n",
       "      <td>-0.884763</td>\n",
       "      <td>-0.177808</td>\n",
       "      <td>0.199810</td>\n",
       "      <td>0.735441</td>\n",
       "      <td>4</td>\n",
       "    </tr>\n",
       "    <tr>\n",
       "      <th>2019-10-07</th>\n",
       "      <td>-0.800627</td>\n",
       "      <td>1.196700</td>\n",
       "      <td>0.913691</td>\n",
       "      <td>0.533029</td>\n",
       "      <td>5</td>\n",
       "    </tr>\n",
       "    <tr>\n",
       "      <th>2019-10-08</th>\n",
       "      <td>-0.946674</td>\n",
       "      <td>-0.399264</td>\n",
       "      <td>0.643931</td>\n",
       "      <td>-0.680529</td>\n",
       "      <td>6</td>\n",
       "    </tr>\n",
       "  </tbody>\n",
       "</table>\n",
       "</div>"
      ],
      "text/plain": [
       "                小爱同学      小米同学      小孙同学      小杨同学  小牛奶\n",
       "2019-10-03  0.135335  0.733531 -0.539147  0.575574    1\n",
       "2019-10-04  0.575279  0.773296 -0.342647  0.951565    2\n",
       "2019-10-05  0.629984 -1.661953  0.972271  0.159800    3\n",
       "2019-10-06 -0.884763 -0.177808  0.199810  0.735441    4\n",
       "2019-10-07 -0.800627  1.196700  0.913691  0.533029    5\n",
       "2019-10-08 -0.946674 -0.399264  0.643931 -0.680529    6"
      ]
     },
     "execution_count": 123,
     "metadata": {},
     "output_type": "execute_result"
    }
   ],
   "source": [
    "df.iloc[0:3,0:1]=np.random.rand(3,1)\n",
    "df"
   ]
  },
  {
   "cell_type": "code",
   "execution_count": 124,
   "metadata": {
    "collapsed": false
   },
   "outputs": [
    {
     "data": {
      "text/plain": [
       "6"
      ]
     },
     "execution_count": 124,
     "metadata": {},
     "output_type": "execute_result"
    }
   ],
   "source": [
    "len(df)"
   ]
  },
  {
   "cell_type": "code",
   "execution_count": 129,
   "metadata": {
    "collapsed": false
   },
   "outputs": [
    {
     "data": {
      "text/html": [
       "<div>\n",
       "<table border=\"1\" class=\"dataframe\">\n",
       "  <thead>\n",
       "    <tr style=\"text-align: right;\">\n",
       "      <th></th>\n",
       "      <th>小爱同学</th>\n",
       "      <th>小米同学</th>\n",
       "      <th>小孙同学</th>\n",
       "      <th>小杨同学</th>\n",
       "      <th>小牛奶</th>\n",
       "    </tr>\n",
       "  </thead>\n",
       "  <tbody>\n",
       "    <tr>\n",
       "      <th>2019-10-03</th>\n",
       "      <td>1</td>\n",
       "      <td>0.733531</td>\n",
       "      <td>-0.539147</td>\n",
       "      <td>0.575574</td>\n",
       "      <td>1</td>\n",
       "    </tr>\n",
       "    <tr>\n",
       "      <th>2019-10-04</th>\n",
       "      <td>4</td>\n",
       "      <td>0.773296</td>\n",
       "      <td>-0.342647</td>\n",
       "      <td>0.951565</td>\n",
       "      <td>2</td>\n",
       "    </tr>\n",
       "    <tr>\n",
       "      <th>2019-10-05</th>\n",
       "      <td>9</td>\n",
       "      <td>-1.661953</td>\n",
       "      <td>0.972271</td>\n",
       "      <td>0.159800</td>\n",
       "      <td>3</td>\n",
       "    </tr>\n",
       "    <tr>\n",
       "      <th>2019-10-06</th>\n",
       "      <td>16</td>\n",
       "      <td>-0.177808</td>\n",
       "      <td>0.199810</td>\n",
       "      <td>0.735441</td>\n",
       "      <td>4</td>\n",
       "    </tr>\n",
       "    <tr>\n",
       "      <th>2019-10-07</th>\n",
       "      <td>25</td>\n",
       "      <td>1.196700</td>\n",
       "      <td>0.913691</td>\n",
       "      <td>0.533029</td>\n",
       "      <td>5</td>\n",
       "    </tr>\n",
       "    <tr>\n",
       "      <th>2019-10-08</th>\n",
       "      <td>36</td>\n",
       "      <td>-0.399264</td>\n",
       "      <td>0.643931</td>\n",
       "      <td>-0.680529</td>\n",
       "      <td>6</td>\n",
       "    </tr>\n",
       "  </tbody>\n",
       "</table>\n",
       "</div>"
      ],
      "text/plain": [
       "            小爱同学      小米同学      小孙同学      小杨同学  小牛奶\n",
       "2019-10-03     1  0.733531 -0.539147  0.575574    1\n",
       "2019-10-04     4  0.773296 -0.342647  0.951565    2\n",
       "2019-10-05     9 -1.661953  0.972271  0.159800    3\n",
       "2019-10-06    16 -0.177808  0.199810  0.735441    4\n",
       "2019-10-07    25  1.196700  0.913691  0.533029    5\n",
       "2019-10-08    36 -0.399264  0.643931 -0.680529    6"
      ]
     },
     "execution_count": 129,
     "metadata": {},
     "output_type": "execute_result"
    }
   ],
   "source": [
    "df.loc[:,\"小爱同学\"]=np.array([x*x for x in range(1,len(df)+1)])\n",
    "df"
   ]
  },
  {
   "cell_type": "code",
   "execution_count": 130,
   "metadata": {
    "collapsed": false
   },
   "outputs": [
    {
     "data": {
      "text/html": [
       "<div>\n",
       "<table border=\"1\" class=\"dataframe\">\n",
       "  <thead>\n",
       "    <tr style=\"text-align: right;\">\n",
       "      <th></th>\n",
       "      <th>小爱同学</th>\n",
       "      <th>小米同学</th>\n",
       "      <th>小孙同学</th>\n",
       "      <th>小杨同学</th>\n",
       "      <th>小牛奶</th>\n",
       "    </tr>\n",
       "  </thead>\n",
       "  <tbody>\n",
       "    <tr>\n",
       "      <th>2019-10-03</th>\n",
       "      <td>1</td>\n",
       "      <td>0.733531</td>\n",
       "      <td>0.539147</td>\n",
       "      <td>0.575574</td>\n",
       "      <td>1</td>\n",
       "    </tr>\n",
       "    <tr>\n",
       "      <th>2019-10-04</th>\n",
       "      <td>4</td>\n",
       "      <td>0.773296</td>\n",
       "      <td>0.342647</td>\n",
       "      <td>0.951565</td>\n",
       "      <td>2</td>\n",
       "    </tr>\n",
       "    <tr>\n",
       "      <th>2019-10-05</th>\n",
       "      <td>9</td>\n",
       "      <td>1.661953</td>\n",
       "      <td>0.972271</td>\n",
       "      <td>0.159800</td>\n",
       "      <td>3</td>\n",
       "    </tr>\n",
       "    <tr>\n",
       "      <th>2019-10-06</th>\n",
       "      <td>16</td>\n",
       "      <td>0.177808</td>\n",
       "      <td>0.199810</td>\n",
       "      <td>0.735441</td>\n",
       "      <td>4</td>\n",
       "    </tr>\n",
       "    <tr>\n",
       "      <th>2019-10-07</th>\n",
       "      <td>25</td>\n",
       "      <td>1.196700</td>\n",
       "      <td>0.913691</td>\n",
       "      <td>0.533029</td>\n",
       "      <td>5</td>\n",
       "    </tr>\n",
       "    <tr>\n",
       "      <th>2019-10-08</th>\n",
       "      <td>36</td>\n",
       "      <td>0.399264</td>\n",
       "      <td>0.643931</td>\n",
       "      <td>0.680529</td>\n",
       "      <td>6</td>\n",
       "    </tr>\n",
       "  </tbody>\n",
       "</table>\n",
       "</div>"
      ],
      "text/plain": [
       "            小爱同学      小米同学      小孙同学      小杨同学  小牛奶\n",
       "2019-10-03     1  0.733531  0.539147  0.575574    1\n",
       "2019-10-04     4  0.773296  0.342647  0.951565    2\n",
       "2019-10-05     9  1.661953  0.972271  0.159800    3\n",
       "2019-10-06    16  0.177808  0.199810  0.735441    4\n",
       "2019-10-07    25  1.196700  0.913691  0.533029    5\n",
       "2019-10-08    36  0.399264  0.643931  0.680529    6"
      ]
     },
     "execution_count": 130,
     "metadata": {},
     "output_type": "execute_result"
    }
   ],
   "source": [
    "df2 = df.copy()\n",
    "df2[df2<0]=-df2\n",
    "df2"
   ]
  },
  {
   "cell_type": "markdown",
   "metadata": {},
   "source": [
    "### 缺失数据的处理"
   ]
  },
  {
   "cell_type": "code",
   "execution_count": 134,
   "metadata": {
    "collapsed": false
   },
   "outputs": [
    {
     "data": {
      "text/html": [
       "<div>\n",
       "<table border=\"1\" class=\"dataframe\">\n",
       "  <thead>\n",
       "    <tr style=\"text-align: right;\">\n",
       "      <th></th>\n",
       "      <th>小爱同学</th>\n",
       "      <th>小米同学</th>\n",
       "      <th>小孙同学</th>\n",
       "      <th>小杨同学</th>\n",
       "      <th>小牛奶</th>\n",
       "      <th>小猪</th>\n",
       "    </tr>\n",
       "  </thead>\n",
       "  <tbody>\n",
       "    <tr>\n",
       "      <th>2019-10-03</th>\n",
       "      <td>1</td>\n",
       "      <td>0.733531</td>\n",
       "      <td>-0.539147</td>\n",
       "      <td>0.575574</td>\n",
       "      <td>1</td>\n",
       "      <td>1.0</td>\n",
       "    </tr>\n",
       "    <tr>\n",
       "      <th>2019-10-04</th>\n",
       "      <td>4</td>\n",
       "      <td>0.773296</td>\n",
       "      <td>-0.342647</td>\n",
       "      <td>0.951565</td>\n",
       "      <td>2</td>\n",
       "      <td>1.0</td>\n",
       "    </tr>\n",
       "    <tr>\n",
       "      <th>2019-10-05</th>\n",
       "      <td>9</td>\n",
       "      <td>-1.661953</td>\n",
       "      <td>0.972271</td>\n",
       "      <td>0.159800</td>\n",
       "      <td>3</td>\n",
       "      <td>NaN</td>\n",
       "    </tr>\n",
       "    <tr>\n",
       "      <th>2019-10-06</th>\n",
       "      <td>16</td>\n",
       "      <td>-0.177808</td>\n",
       "      <td>0.199810</td>\n",
       "      <td>0.735441</td>\n",
       "      <td>4</td>\n",
       "      <td>NaN</td>\n",
       "    </tr>\n",
       "  </tbody>\n",
       "</table>\n",
       "</div>"
      ],
      "text/plain": [
       "            小爱同学      小米同学      小孙同学      小杨同学  小牛奶   小猪\n",
       "2019-10-03     1  0.733531 -0.539147  0.575574    1  1.0\n",
       "2019-10-04     4  0.773296 -0.342647  0.951565    2  1.0\n",
       "2019-10-05     9 -1.661953  0.972271  0.159800    3  NaN\n",
       "2019-10-06    16 -0.177808  0.199810  0.735441    4  NaN"
      ]
     },
     "execution_count": 134,
     "metadata": {},
     "output_type": "execute_result"
    }
   ],
   "source": [
    "df1 = df.reindex(index=dates[0:4], columns=list(df.columns) + ['小猪'])\n",
    "df1.loc[dates[0]:dates[1],'小猪']=1\n",
    "df1\n"
   ]
  },
  {
   "cell_type": "markdown",
   "metadata": {},
   "source": [
    "丢掉含有缺失项的行"
   ]
  },
  {
   "cell_type": "code",
   "execution_count": 137,
   "metadata": {
    "collapsed": false
   },
   "outputs": [
    {
     "data": {
      "text/html": [
       "<div>\n",
       "<table border=\"1\" class=\"dataframe\">\n",
       "  <thead>\n",
       "    <tr style=\"text-align: right;\">\n",
       "      <th></th>\n",
       "      <th>小爱同学</th>\n",
       "      <th>小米同学</th>\n",
       "      <th>小孙同学</th>\n",
       "      <th>小杨同学</th>\n",
       "      <th>小牛奶</th>\n",
       "      <th>小猪</th>\n",
       "    </tr>\n",
       "  </thead>\n",
       "  <tbody>\n",
       "    <tr>\n",
       "      <th>2019-10-03</th>\n",
       "      <td>1</td>\n",
       "      <td>0.733531</td>\n",
       "      <td>-0.539147</td>\n",
       "      <td>0.575574</td>\n",
       "      <td>1</td>\n",
       "      <td>1.0</td>\n",
       "    </tr>\n",
       "    <tr>\n",
       "      <th>2019-10-04</th>\n",
       "      <td>4</td>\n",
       "      <td>0.773296</td>\n",
       "      <td>-0.342647</td>\n",
       "      <td>0.951565</td>\n",
       "      <td>2</td>\n",
       "      <td>1.0</td>\n",
       "    </tr>\n",
       "  </tbody>\n",
       "</table>\n",
       "</div>"
      ],
      "text/plain": [
       "            小爱同学      小米同学      小孙同学      小杨同学  小牛奶   小猪\n",
       "2019-10-03     1  0.733531 -0.539147  0.575574    1  1.0\n",
       "2019-10-04     4  0.773296 -0.342647  0.951565    2  1.0"
      ]
     },
     "execution_count": 137,
     "metadata": {},
     "output_type": "execute_result"
    }
   ],
   "source": [
    "df1.dropna(how ='any')"
   ]
  },
  {
   "cell_type": "markdown",
   "metadata": {},
   "source": [
    "对缺失项赋值"
   ]
  },
  {
   "cell_type": "code",
   "execution_count": 141,
   "metadata": {
    "collapsed": false
   },
   "outputs": [
    {
     "data": {
      "text/html": [
       "<div>\n",
       "<table border=\"1\" class=\"dataframe\">\n",
       "  <thead>\n",
       "    <tr style=\"text-align: right;\">\n",
       "      <th></th>\n",
       "      <th>小爱同学</th>\n",
       "      <th>小米同学</th>\n",
       "      <th>小孙同学</th>\n",
       "      <th>小杨同学</th>\n",
       "      <th>小牛奶</th>\n",
       "      <th>小猪</th>\n",
       "    </tr>\n",
       "  </thead>\n",
       "  <tbody>\n",
       "    <tr>\n",
       "      <th>2019-10-03</th>\n",
       "      <td>1</td>\n",
       "      <td>0.733531</td>\n",
       "      <td>-0.539147</td>\n",
       "      <td>0.575574</td>\n",
       "      <td>1</td>\n",
       "      <td>1.0</td>\n",
       "    </tr>\n",
       "    <tr>\n",
       "      <th>2019-10-04</th>\n",
       "      <td>4</td>\n",
       "      <td>0.773296</td>\n",
       "      <td>-0.342647</td>\n",
       "      <td>0.951565</td>\n",
       "      <td>2</td>\n",
       "      <td>1.0</td>\n",
       "    </tr>\n",
       "    <tr>\n",
       "      <th>2019-10-05</th>\n",
       "      <td>9</td>\n",
       "      <td>-1.661953</td>\n",
       "      <td>0.972271</td>\n",
       "      <td>0.159800</td>\n",
       "      <td>3</td>\n",
       "      <td>8848.0</td>\n",
       "    </tr>\n",
       "    <tr>\n",
       "      <th>2019-10-06</th>\n",
       "      <td>16</td>\n",
       "      <td>-0.177808</td>\n",
       "      <td>0.199810</td>\n",
       "      <td>0.735441</td>\n",
       "      <td>4</td>\n",
       "      <td>8848.0</td>\n",
       "    </tr>\n",
       "  </tbody>\n",
       "</table>\n",
       "</div>"
      ],
      "text/plain": [
       "            小爱同学      小米同学      小孙同学      小杨同学  小牛奶      小猪\n",
       "2019-10-03     1  0.733531 -0.539147  0.575574    1     1.0\n",
       "2019-10-04     4  0.773296 -0.342647  0.951565    2     1.0\n",
       "2019-10-05     9 -1.661953  0.972271  0.159800    3  8848.0\n",
       "2019-10-06    16 -0.177808  0.199810  0.735441    4  8848.0"
      ]
     },
     "execution_count": 141,
     "metadata": {},
     "output_type": "execute_result"
    }
   ],
   "source": [
    "df1.fillna(value =8848)"
   ]
  },
  {
   "cell_type": "markdown",
   "metadata": {},
   "source": [
    "对缺失项布尔赋值"
   ]
  },
  {
   "cell_type": "code",
   "execution_count": 143,
   "metadata": {
    "collapsed": false
   },
   "outputs": [
    {
     "data": {
      "text/html": [
       "<div>\n",
       "<table border=\"1\" class=\"dataframe\">\n",
       "  <thead>\n",
       "    <tr style=\"text-align: right;\">\n",
       "      <th></th>\n",
       "      <th>小爱同学</th>\n",
       "      <th>小米同学</th>\n",
       "      <th>小孙同学</th>\n",
       "      <th>小杨同学</th>\n",
       "      <th>小牛奶</th>\n",
       "      <th>小猪</th>\n",
       "    </tr>\n",
       "  </thead>\n",
       "  <tbody>\n",
       "    <tr>\n",
       "      <th>2019-10-03</th>\n",
       "      <td>True</td>\n",
       "      <td>True</td>\n",
       "      <td>True</td>\n",
       "      <td>True</td>\n",
       "      <td>True</td>\n",
       "      <td>True</td>\n",
       "    </tr>\n",
       "    <tr>\n",
       "      <th>2019-10-04</th>\n",
       "      <td>True</td>\n",
       "      <td>True</td>\n",
       "      <td>True</td>\n",
       "      <td>True</td>\n",
       "      <td>True</td>\n",
       "      <td>True</td>\n",
       "    </tr>\n",
       "    <tr>\n",
       "      <th>2019-10-05</th>\n",
       "      <td>True</td>\n",
       "      <td>True</td>\n",
       "      <td>True</td>\n",
       "      <td>True</td>\n",
       "      <td>True</td>\n",
       "      <td>False</td>\n",
       "    </tr>\n",
       "    <tr>\n",
       "      <th>2019-10-06</th>\n",
       "      <td>True</td>\n",
       "      <td>True</td>\n",
       "      <td>True</td>\n",
       "      <td>True</td>\n",
       "      <td>True</td>\n",
       "      <td>False</td>\n",
       "    </tr>\n",
       "  </tbody>\n",
       "</table>\n",
       "</div>"
      ],
      "text/plain": [
       "            小爱同学  小米同学  小孙同学  小杨同学   小牛奶     小猪\n",
       "2019-10-03  True  True  True  True  True   True\n",
       "2019-10-04  True  True  True  True  True   True\n",
       "2019-10-05  True  True  True  True  True  False\n",
       "2019-10-06  True  True  True  True  True  False"
      ]
     },
     "execution_count": 143,
     "metadata": {},
     "output_type": "execute_result"
    }
   ],
   "source": [
    "-pd.isnull(df1)"
   ]
  },
  {
   "cell_type": "markdown",
   "metadata": {},
   "source": [
    "相关操作（跳过）"
   ]
  },
  {
   "cell_type": "code",
   "execution_count": 145,
   "metadata": {
    "collapsed": false
   },
   "outputs": [
    {
     "data": {
      "text/plain": [
       "小爱同学    15.166667\n",
       "小米同学     0.077417\n",
       "小孙同学     0.307985\n",
       "小杨同学     0.379147\n",
       "小牛奶      3.500000\n",
       "dtype: float64"
      ]
     },
     "execution_count": 145,
     "metadata": {},
     "output_type": "execute_result"
    }
   ],
   "source": [
    "df.mean()"
   ]
  },
  {
   "cell_type": "code",
   "execution_count": 146,
   "metadata": {
    "collapsed": false
   },
   "outputs": [
    {
     "data": {
      "text/plain": [
       "2019-10-03    0.553992\n",
       "2019-10-04    1.476443\n",
       "2019-10-05    2.294024\n",
       "2019-10-06    4.151488\n",
       "2019-10-07    6.528684\n",
       "2019-10-08    8.312828\n",
       "Freq: D, dtype: float64"
      ]
     },
     "execution_count": 146,
     "metadata": {},
     "output_type": "execute_result"
    }
   ],
   "source": [
    "df.mean(1)"
   ]
  },
  {
   "cell_type": "code",
   "execution_count": 149,
   "metadata": {
    "collapsed": false
   },
   "outputs": [
    {
     "data": {
      "text/plain": [
       "2019-10-03    NaN\n",
       "2019-10-04    1.0\n",
       "2019-10-05    3.0\n",
       "2019-10-06    5.0\n",
       "2019-10-07    NaN\n",
       "2019-10-08    6.0\n",
       "Freq: D, dtype: float64"
      ]
     },
     "execution_count": 149,
     "metadata": {},
     "output_type": "execute_result"
    }
   ],
   "source": [
    "s = pd.Series([1,3,5,np.nan,6,8], index=dates).shift(1)\n",
    "s\n"
   ]
  },
  {
   "cell_type": "code",
   "execution_count": 150,
   "metadata": {
    "collapsed": false
   },
   "outputs": [
    {
     "data": {
      "text/html": [
       "<div>\n",
       "<table border=\"1\" class=\"dataframe\">\n",
       "  <thead>\n",
       "    <tr style=\"text-align: right;\">\n",
       "      <th></th>\n",
       "      <th>小爱同学</th>\n",
       "      <th>小米同学</th>\n",
       "      <th>小孙同学</th>\n",
       "      <th>小杨同学</th>\n",
       "      <th>小牛奶</th>\n",
       "    </tr>\n",
       "  </thead>\n",
       "  <tbody>\n",
       "    <tr>\n",
       "      <th>2019-10-03</th>\n",
       "      <td>NaN</td>\n",
       "      <td>NaN</td>\n",
       "      <td>NaN</td>\n",
       "      <td>NaN</td>\n",
       "      <td>NaN</td>\n",
       "    </tr>\n",
       "    <tr>\n",
       "      <th>2019-10-04</th>\n",
       "      <td>3.0</td>\n",
       "      <td>-0.226704</td>\n",
       "      <td>-1.342647</td>\n",
       "      <td>-0.048435</td>\n",
       "      <td>1.0</td>\n",
       "    </tr>\n",
       "    <tr>\n",
       "      <th>2019-10-05</th>\n",
       "      <td>6.0</td>\n",
       "      <td>-4.661953</td>\n",
       "      <td>-2.027729</td>\n",
       "      <td>-2.840200</td>\n",
       "      <td>0.0</td>\n",
       "    </tr>\n",
       "    <tr>\n",
       "      <th>2019-10-06</th>\n",
       "      <td>11.0</td>\n",
       "      <td>-5.177808</td>\n",
       "      <td>-4.800190</td>\n",
       "      <td>-4.264559</td>\n",
       "      <td>-1.0</td>\n",
       "    </tr>\n",
       "    <tr>\n",
       "      <th>2019-10-07</th>\n",
       "      <td>NaN</td>\n",
       "      <td>NaN</td>\n",
       "      <td>NaN</td>\n",
       "      <td>NaN</td>\n",
       "      <td>NaN</td>\n",
       "    </tr>\n",
       "    <tr>\n",
       "      <th>2019-10-08</th>\n",
       "      <td>30.0</td>\n",
       "      <td>-6.399264</td>\n",
       "      <td>-5.356069</td>\n",
       "      <td>-6.680529</td>\n",
       "      <td>0.0</td>\n",
       "    </tr>\n",
       "  </tbody>\n",
       "</table>\n",
       "</div>"
      ],
      "text/plain": [
       "            小爱同学      小米同学      小孙同学      小杨同学  小牛奶\n",
       "2019-10-03   NaN       NaN       NaN       NaN  NaN\n",
       "2019-10-04   3.0 -0.226704 -1.342647 -0.048435  1.0\n",
       "2019-10-05   6.0 -4.661953 -2.027729 -2.840200  0.0\n",
       "2019-10-06  11.0 -5.177808 -4.800190 -4.264559 -1.0\n",
       "2019-10-07   NaN       NaN       NaN       NaN  NaN\n",
       "2019-10-08  30.0 -6.399264 -5.356069 -6.680529  0.0"
      ]
     },
     "execution_count": 150,
     "metadata": {},
     "output_type": "execute_result"
    }
   ],
   "source": [
    "df.sub(s,axis = 'index')"
   ]
  },
  {
   "cell_type": "code",
   "execution_count": 151,
   "metadata": {
    "collapsed": false
   },
   "outputs": [
    {
     "data": {
      "text/html": [
       "<div>\n",
       "<table border=\"1\" class=\"dataframe\">\n",
       "  <thead>\n",
       "    <tr style=\"text-align: right;\">\n",
       "      <th></th>\n",
       "      <th>小爱同学</th>\n",
       "      <th>小米同学</th>\n",
       "      <th>小孙同学</th>\n",
       "      <th>小杨同学</th>\n",
       "      <th>小牛奶</th>\n",
       "    </tr>\n",
       "  </thead>\n",
       "  <tbody>\n",
       "    <tr>\n",
       "      <th>2019-10-03</th>\n",
       "      <td>1</td>\n",
       "      <td>0.733531</td>\n",
       "      <td>-0.539147</td>\n",
       "      <td>0.575574</td>\n",
       "      <td>1</td>\n",
       "    </tr>\n",
       "    <tr>\n",
       "      <th>2019-10-04</th>\n",
       "      <td>5</td>\n",
       "      <td>1.506827</td>\n",
       "      <td>-0.881794</td>\n",
       "      <td>1.527139</td>\n",
       "      <td>3</td>\n",
       "    </tr>\n",
       "    <tr>\n",
       "      <th>2019-10-05</th>\n",
       "      <td>14</td>\n",
       "      <td>-0.155126</td>\n",
       "      <td>0.090478</td>\n",
       "      <td>1.686939</td>\n",
       "      <td>6</td>\n",
       "    </tr>\n",
       "    <tr>\n",
       "      <th>2019-10-06</th>\n",
       "      <td>30</td>\n",
       "      <td>-0.332934</td>\n",
       "      <td>0.290287</td>\n",
       "      <td>2.422380</td>\n",
       "      <td>10</td>\n",
       "    </tr>\n",
       "    <tr>\n",
       "      <th>2019-10-07</th>\n",
       "      <td>55</td>\n",
       "      <td>0.863766</td>\n",
       "      <td>1.203978</td>\n",
       "      <td>2.955409</td>\n",
       "      <td>15</td>\n",
       "    </tr>\n",
       "    <tr>\n",
       "      <th>2019-10-08</th>\n",
       "      <td>91</td>\n",
       "      <td>0.464502</td>\n",
       "      <td>1.847909</td>\n",
       "      <td>2.274880</td>\n",
       "      <td>21</td>\n",
       "    </tr>\n",
       "  </tbody>\n",
       "</table>\n",
       "</div>"
      ],
      "text/plain": [
       "            小爱同学      小米同学      小孙同学      小杨同学  小牛奶\n",
       "2019-10-03     1  0.733531 -0.539147  0.575574    1\n",
       "2019-10-04     5  1.506827 -0.881794  1.527139    3\n",
       "2019-10-05    14 -0.155126  0.090478  1.686939    6\n",
       "2019-10-06    30 -0.332934  0.290287  2.422380   10\n",
       "2019-10-07    55  0.863766  1.203978  2.955409   15\n",
       "2019-10-08    91  0.464502  1.847909  2.274880   21"
      ]
     },
     "execution_count": 151,
     "metadata": {},
     "output_type": "execute_result"
    }
   ],
   "source": [
    "df.apply(np.cumsum)"
   ]
  },
  {
   "cell_type": "markdown",
   "metadata": {},
   "source": [
    "直方图和离散化"
   ]
  },
  {
   "cell_type": "code",
   "execution_count": 153,
   "metadata": {
    "collapsed": false
   },
   "outputs": [
    {
     "data": {
      "text/plain": [
       "0    0\n",
       "1    2\n",
       "2    2\n",
       "3    0\n",
       "4    1\n",
       "5    4\n",
       "6    5\n",
       "7    1\n",
       "8    0\n",
       "9    3\n",
       "dtype: int64"
      ]
     },
     "execution_count": 153,
     "metadata": {},
     "output_type": "execute_result"
    }
   ],
   "source": [
    "s= pd.Series(np.random.randint(0,7,size =10))\n",
    "s\n"
   ]
  },
  {
   "cell_type": "code",
   "execution_count": 154,
   "metadata": {
    "collapsed": false
   },
   "outputs": [
    {
     "data": {
      "text/plain": [
       "0    3\n",
       "2    2\n",
       "1    2\n",
       "5    1\n",
       "4    1\n",
       "3    1\n",
       "dtype: int64"
      ]
     },
     "execution_count": 154,
     "metadata": {},
     "output_type": "execute_result"
    }
   ],
   "source": [
    "s.value_counts()"
   ]
  },
  {
   "cell_type": "markdown",
   "metadata": {},
   "source": [
    "字符串方法 全变小写"
   ]
  },
  {
   "cell_type": "code",
   "execution_count": 155,
   "metadata": {
    "collapsed": false
   },
   "outputs": [
    {
     "data": {
      "text/plain": [
       "0       a\n",
       "1       b\n",
       "2       c\n",
       "3    aaba\n",
       "4    baca\n",
       "5     NaN\n",
       "6    caba\n",
       "7     dog\n",
       "8     cat\n",
       "dtype: object"
      ]
     },
     "execution_count": 155,
     "metadata": {},
     "output_type": "execute_result"
    }
   ],
   "source": [
    "s = pd.Series(['A', 'B', 'C', 'Aaba', 'Baca', np.nan, 'CABA', 'dog', 'cat'])\n",
    "s.str.lower()"
   ]
  },
  {
   "cell_type": "markdown",
   "metadata": {},
   "source": [
    "合并"
   ]
  },
  {
   "cell_type": "code",
   "execution_count": 162,
   "metadata": {
    "collapsed": false
   },
   "outputs": [
    {
     "data": {
      "text/html": [
       "<div>\n",
       "<table border=\"1\" class=\"dataframe\">\n",
       "  <thead>\n",
       "    <tr style=\"text-align: right;\">\n",
       "      <th></th>\n",
       "      <th>0</th>\n",
       "      <th>1</th>\n",
       "      <th>2</th>\n",
       "      <th>3</th>\n",
       "      <th>4</th>\n",
       "      <th>5</th>\n",
       "      <th>6</th>\n",
       "      <th>7</th>\n",
       "      <th>8</th>\n",
       "      <th>9</th>\n",
       "    </tr>\n",
       "  </thead>\n",
       "  <tbody>\n",
       "    <tr>\n",
       "      <th>0</th>\n",
       "      <td>4</td>\n",
       "      <td>4</td>\n",
       "      <td>5</td>\n",
       "      <td>3</td>\n",
       "      <td>6</td>\n",
       "      <td>0</td>\n",
       "      <td>3</td>\n",
       "      <td>4</td>\n",
       "      <td>0</td>\n",
       "      <td>6</td>\n",
       "    </tr>\n",
       "    <tr>\n",
       "      <th>1</th>\n",
       "      <td>4</td>\n",
       "      <td>4</td>\n",
       "      <td>6</td>\n",
       "      <td>2</td>\n",
       "      <td>4</td>\n",
       "      <td>2</td>\n",
       "      <td>3</td>\n",
       "      <td>6</td>\n",
       "      <td>2</td>\n",
       "      <td>6</td>\n",
       "    </tr>\n",
       "    <tr>\n",
       "      <th>2</th>\n",
       "      <td>2</td>\n",
       "      <td>2</td>\n",
       "      <td>6</td>\n",
       "      <td>6</td>\n",
       "      <td>3</td>\n",
       "      <td>3</td>\n",
       "      <td>0</td>\n",
       "      <td>5</td>\n",
       "      <td>3</td>\n",
       "      <td>4</td>\n",
       "    </tr>\n",
       "    <tr>\n",
       "      <th>3</th>\n",
       "      <td>4</td>\n",
       "      <td>4</td>\n",
       "      <td>0</td>\n",
       "      <td>4</td>\n",
       "      <td>2</td>\n",
       "      <td>2</td>\n",
       "      <td>0</td>\n",
       "      <td>0</td>\n",
       "      <td>0</td>\n",
       "      <td>5</td>\n",
       "    </tr>\n",
       "    <tr>\n",
       "      <th>4</th>\n",
       "      <td>0</td>\n",
       "      <td>5</td>\n",
       "      <td>0</td>\n",
       "      <td>2</td>\n",
       "      <td>3</td>\n",
       "      <td>3</td>\n",
       "      <td>4</td>\n",
       "      <td>6</td>\n",
       "      <td>6</td>\n",
       "      <td>5</td>\n",
       "    </tr>\n",
       "    <tr>\n",
       "      <th>5</th>\n",
       "      <td>0</td>\n",
       "      <td>0</td>\n",
       "      <td>4</td>\n",
       "      <td>1</td>\n",
       "      <td>3</td>\n",
       "      <td>6</td>\n",
       "      <td>2</td>\n",
       "      <td>5</td>\n",
       "      <td>5</td>\n",
       "      <td>0</td>\n",
       "    </tr>\n",
       "    <tr>\n",
       "      <th>6</th>\n",
       "      <td>2</td>\n",
       "      <td>1</td>\n",
       "      <td>6</td>\n",
       "      <td>5</td>\n",
       "      <td>1</td>\n",
       "      <td>5</td>\n",
       "      <td>2</td>\n",
       "      <td>0</td>\n",
       "      <td>5</td>\n",
       "      <td>3</td>\n",
       "    </tr>\n",
       "    <tr>\n",
       "      <th>7</th>\n",
       "      <td>3</td>\n",
       "      <td>1</td>\n",
       "      <td>2</td>\n",
       "      <td>3</td>\n",
       "      <td>5</td>\n",
       "      <td>2</td>\n",
       "      <td>0</td>\n",
       "      <td>5</td>\n",
       "      <td>5</td>\n",
       "      <td>0</td>\n",
       "    </tr>\n",
       "    <tr>\n",
       "      <th>8</th>\n",
       "      <td>6</td>\n",
       "      <td>0</td>\n",
       "      <td>4</td>\n",
       "      <td>4</td>\n",
       "      <td>0</td>\n",
       "      <td>3</td>\n",
       "      <td>2</td>\n",
       "      <td>6</td>\n",
       "      <td>5</td>\n",
       "      <td>4</td>\n",
       "    </tr>\n",
       "    <tr>\n",
       "      <th>9</th>\n",
       "      <td>3</td>\n",
       "      <td>0</td>\n",
       "      <td>5</td>\n",
       "      <td>1</td>\n",
       "      <td>1</td>\n",
       "      <td>5</td>\n",
       "      <td>2</td>\n",
       "      <td>5</td>\n",
       "      <td>5</td>\n",
       "      <td>5</td>\n",
       "    </tr>\n",
       "  </tbody>\n",
       "</table>\n",
       "</div>"
      ],
      "text/plain": [
       "   0  1  2  3  4  5  6  7  8  9\n",
       "0  4  4  5  3  6  0  3  4  0  6\n",
       "1  4  4  6  2  4  2  3  6  2  6\n",
       "2  2  2  6  6  3  3  0  5  3  4\n",
       "3  4  4  0  4  2  2  0  0  0  5\n",
       "4  0  5  0  2  3  3  4  6  6  5\n",
       "5  0  0  4  1  3  6  2  5  5  0\n",
       "6  2  1  6  5  1  5  2  0  5  3\n",
       "7  3  1  2  3  5  2  0  5  5  0\n",
       "8  6  0  4  4  0  3  2  6  5  4\n",
       "9  3  0  5  1  1  5  2  5  5  5"
      ]
     },
     "execution_count": 162,
     "metadata": {},
     "output_type": "execute_result"
    }
   ],
   "source": [
    "\n",
    "df = pd.DataFrame(np.random.randint(0,7,(10,10)))\n",
    "df"
   ]
  },
  {
   "cell_type": "code",
   "execution_count": 170,
   "metadata": {
    "collapsed": false
   },
   "outputs": [
    {
     "data": {
      "text/plain": [
       "[   0  1  2  3  4  5  6  7  8  9\n",
       " 0  4  4  5  3  6  0  3  4  0  6\n",
       " 1  4  4  6  2  4  2  3  6  2  6\n",
       " 2  2  2  6  6  3  3  0  5  3  4,    0  1  2  3  4  5  6  7  8  9\n",
       " 3  4  4  0  4  2  2  0  0  0  5\n",
       " 4  0  5  0  2  3  3  4  6  6  5\n",
       " 5  0  0  4  1  3  6  2  5  5  0\n",
       " 6  2  1  6  5  1  5  2  0  5  3]"
      ]
     },
     "execution_count": 170,
     "metadata": {},
     "output_type": "execute_result"
    }
   ],
   "source": [
    " pieces = [df[:3], df[3:7]]\n",
    "pieces"
   ]
  },
  {
   "cell_type": "code",
   "execution_count": 169,
   "metadata": {
    "collapsed": false
   },
   "outputs": [
    {
     "data": {
      "text/html": [
       "<div>\n",
       "<table border=\"1\" class=\"dataframe\">\n",
       "  <thead>\n",
       "    <tr style=\"text-align: right;\">\n",
       "      <th></th>\n",
       "      <th>0</th>\n",
       "      <th>1</th>\n",
       "      <th>2</th>\n",
       "      <th>3</th>\n",
       "      <th>4</th>\n",
       "      <th>5</th>\n",
       "      <th>6</th>\n",
       "      <th>7</th>\n",
       "      <th>8</th>\n",
       "      <th>9</th>\n",
       "    </tr>\n",
       "  </thead>\n",
       "  <tbody>\n",
       "    <tr>\n",
       "      <th>0</th>\n",
       "      <td>4</td>\n",
       "      <td>4</td>\n",
       "      <td>5</td>\n",
       "      <td>3</td>\n",
       "      <td>6</td>\n",
       "      <td>0</td>\n",
       "      <td>3</td>\n",
       "      <td>4</td>\n",
       "      <td>0</td>\n",
       "      <td>6</td>\n",
       "    </tr>\n",
       "    <tr>\n",
       "      <th>1</th>\n",
       "      <td>4</td>\n",
       "      <td>4</td>\n",
       "      <td>6</td>\n",
       "      <td>2</td>\n",
       "      <td>4</td>\n",
       "      <td>2</td>\n",
       "      <td>3</td>\n",
       "      <td>6</td>\n",
       "      <td>2</td>\n",
       "      <td>6</td>\n",
       "    </tr>\n",
       "    <tr>\n",
       "      <th>2</th>\n",
       "      <td>2</td>\n",
       "      <td>2</td>\n",
       "      <td>6</td>\n",
       "      <td>6</td>\n",
       "      <td>3</td>\n",
       "      <td>3</td>\n",
       "      <td>0</td>\n",
       "      <td>5</td>\n",
       "      <td>3</td>\n",
       "      <td>4</td>\n",
       "    </tr>\n",
       "    <tr>\n",
       "      <th>3</th>\n",
       "      <td>4</td>\n",
       "      <td>4</td>\n",
       "      <td>0</td>\n",
       "      <td>4</td>\n",
       "      <td>2</td>\n",
       "      <td>2</td>\n",
       "      <td>0</td>\n",
       "      <td>0</td>\n",
       "      <td>0</td>\n",
       "      <td>5</td>\n",
       "    </tr>\n",
       "    <tr>\n",
       "      <th>4</th>\n",
       "      <td>0</td>\n",
       "      <td>5</td>\n",
       "      <td>0</td>\n",
       "      <td>2</td>\n",
       "      <td>3</td>\n",
       "      <td>3</td>\n",
       "      <td>4</td>\n",
       "      <td>6</td>\n",
       "      <td>6</td>\n",
       "      <td>5</td>\n",
       "    </tr>\n",
       "    <tr>\n",
       "      <th>5</th>\n",
       "      <td>0</td>\n",
       "      <td>0</td>\n",
       "      <td>4</td>\n",
       "      <td>1</td>\n",
       "      <td>3</td>\n",
       "      <td>6</td>\n",
       "      <td>2</td>\n",
       "      <td>5</td>\n",
       "      <td>5</td>\n",
       "      <td>0</td>\n",
       "    </tr>\n",
       "    <tr>\n",
       "      <th>6</th>\n",
       "      <td>2</td>\n",
       "      <td>1</td>\n",
       "      <td>6</td>\n",
       "      <td>5</td>\n",
       "      <td>1</td>\n",
       "      <td>5</td>\n",
       "      <td>2</td>\n",
       "      <td>0</td>\n",
       "      <td>5</td>\n",
       "      <td>3</td>\n",
       "    </tr>\n",
       "    <tr>\n",
       "      <th>7</th>\n",
       "      <td>3</td>\n",
       "      <td>1</td>\n",
       "      <td>2</td>\n",
       "      <td>3</td>\n",
       "      <td>5</td>\n",
       "      <td>2</td>\n",
       "      <td>0</td>\n",
       "      <td>5</td>\n",
       "      <td>5</td>\n",
       "      <td>0</td>\n",
       "    </tr>\n",
       "    <tr>\n",
       "      <th>8</th>\n",
       "      <td>6</td>\n",
       "      <td>0</td>\n",
       "      <td>4</td>\n",
       "      <td>4</td>\n",
       "      <td>0</td>\n",
       "      <td>3</td>\n",
       "      <td>2</td>\n",
       "      <td>6</td>\n",
       "      <td>5</td>\n",
       "      <td>4</td>\n",
       "    </tr>\n",
       "    <tr>\n",
       "      <th>9</th>\n",
       "      <td>3</td>\n",
       "      <td>0</td>\n",
       "      <td>5</td>\n",
       "      <td>1</td>\n",
       "      <td>1</td>\n",
       "      <td>5</td>\n",
       "      <td>2</td>\n",
       "      <td>5</td>\n",
       "      <td>5</td>\n",
       "      <td>5</td>\n",
       "    </tr>\n",
       "  </tbody>\n",
       "</table>\n",
       "</div>"
      ],
      "text/plain": [
       "   0  1  2  3  4  5  6  7  8  9\n",
       "0  4  4  5  3  6  0  3  4  0  6\n",
       "1  4  4  6  2  4  2  3  6  2  6\n",
       "2  2  2  6  6  3  3  0  5  3  4\n",
       "3  4  4  0  4  2  2  0  0  0  5\n",
       "4  0  5  0  2  3  3  4  6  6  5\n",
       "5  0  0  4  1  3  6  2  5  5  0\n",
       "6  2  1  6  5  1  5  2  0  5  3\n",
       "7  3  1  2  3  5  2  0  5  5  0\n",
       "8  6  0  4  4  0  3  2  6  5  4\n",
       "9  3  0  5  1  1  5  2  5  5  5"
      ]
     },
     "execution_count": 169,
     "metadata": {},
     "output_type": "execute_result"
    }
   ],
   "source": [
    "pd.concat(pieces)"
   ]
  },
  {
   "cell_type": "markdown",
   "metadata": {},
   "source": [
    "join操作"
   ]
  },
  {
   "cell_type": "code",
   "execution_count": 197,
   "metadata": {
    "collapsed": false
   },
   "outputs": [
    {
     "data": {
      "text/html": [
       "<div>\n",
       "<table border=\"1\" class=\"dataframe\">\n",
       "  <thead>\n",
       "    <tr style=\"text-align: right;\">\n",
       "      <th></th>\n",
       "      <th>品牌</th>\n",
       "      <th>数量</th>\n",
       "    </tr>\n",
       "  </thead>\n",
       "  <tbody>\n",
       "    <tr>\n",
       "      <th>0</th>\n",
       "      <td>小米</td>\n",
       "      <td>1</td>\n",
       "    </tr>\n",
       "    <tr>\n",
       "      <th>1</th>\n",
       "      <td>苹果</td>\n",
       "      <td>2</td>\n",
       "    </tr>\n",
       "  </tbody>\n",
       "</table>\n",
       "</div>"
      ],
      "text/plain": [
       "   品牌  数量\n",
       "0  小米   1\n",
       "1  苹果   2"
      ]
     },
     "execution_count": 197,
     "metadata": {},
     "output_type": "execute_result"
    }
   ],
   "source": [
    "left = pd.DataFrame({'品牌': ['小米', '苹果'], '数量': [1, 2]})\n",
    "right = pd.DataFrame({'品牌': ['小米', '苹果'], '库存': [4, 5]})\n",
    "left"
   ]
  },
  {
   "cell_type": "code",
   "execution_count": 198,
   "metadata": {
    "collapsed": false
   },
   "outputs": [
    {
     "data": {
      "text/html": [
       "<div>\n",
       "<table border=\"1\" class=\"dataframe\">\n",
       "  <thead>\n",
       "    <tr style=\"text-align: right;\">\n",
       "      <th></th>\n",
       "      <th>品牌</th>\n",
       "      <th>库存</th>\n",
       "    </tr>\n",
       "  </thead>\n",
       "  <tbody>\n",
       "    <tr>\n",
       "      <th>0</th>\n",
       "      <td>小米</td>\n",
       "      <td>4</td>\n",
       "    </tr>\n",
       "    <tr>\n",
       "      <th>1</th>\n",
       "      <td>苹果</td>\n",
       "      <td>5</td>\n",
       "    </tr>\n",
       "  </tbody>\n",
       "</table>\n",
       "</div>"
      ],
      "text/plain": [
       "   品牌  库存\n",
       "0  小米   4\n",
       "1  苹果   5"
      ]
     },
     "execution_count": 198,
     "metadata": {},
     "output_type": "execute_result"
    }
   ],
   "source": [
    "right"
   ]
  },
  {
   "cell_type": "code",
   "execution_count": 199,
   "metadata": {
    "collapsed": false
   },
   "outputs": [
    {
     "data": {
      "text/html": [
       "<div>\n",
       "<table border=\"1\" class=\"dataframe\">\n",
       "  <thead>\n",
       "    <tr style=\"text-align: right;\">\n",
       "      <th></th>\n",
       "      <th>品牌</th>\n",
       "      <th>数量</th>\n",
       "      <th>库存</th>\n",
       "    </tr>\n",
       "  </thead>\n",
       "  <tbody>\n",
       "    <tr>\n",
       "      <th>0</th>\n",
       "      <td>小米</td>\n",
       "      <td>1</td>\n",
       "      <td>4</td>\n",
       "    </tr>\n",
       "    <tr>\n",
       "      <th>1</th>\n",
       "      <td>苹果</td>\n",
       "      <td>2</td>\n",
       "      <td>5</td>\n",
       "    </tr>\n",
       "  </tbody>\n",
       "</table>\n",
       "</div>"
      ],
      "text/plain": [
       "   品牌  数量  库存\n",
       "0  小米   1   4\n",
       "1  苹果   2   5"
      ]
     },
     "execution_count": 199,
     "metadata": {},
     "output_type": "execute_result"
    }
   ],
   "source": [
    "pd.merge(left,right,on ='品牌')"
   ]
  },
  {
   "cell_type": "code",
   "execution_count": 202,
   "metadata": {
    "collapsed": false
   },
   "outputs": [
    {
     "data": {
      "text/html": [
       "<div>\n",
       "<table border=\"1\" class=\"dataframe\">\n",
       "  <thead>\n",
       "    <tr style=\"text-align: right;\">\n",
       "      <th></th>\n",
       "      <th>A</th>\n",
       "      <th>B</th>\n",
       "      <th>C</th>\n",
       "      <th>D</th>\n",
       "    </tr>\n",
       "  </thead>\n",
       "  <tbody>\n",
       "    <tr>\n",
       "      <th>0</th>\n",
       "      <td>-0.556911</td>\n",
       "      <td>0.513247</td>\n",
       "      <td>-1.161760</td>\n",
       "      <td>-0.140053</td>\n",
       "    </tr>\n",
       "    <tr>\n",
       "      <th>1</th>\n",
       "      <td>-1.010219</td>\n",
       "      <td>-0.741110</td>\n",
       "      <td>-1.362442</td>\n",
       "      <td>1.748832</td>\n",
       "    </tr>\n",
       "    <tr>\n",
       "      <th>2</th>\n",
       "      <td>0.666514</td>\n",
       "      <td>1.671654</td>\n",
       "      <td>-0.141651</td>\n",
       "      <td>-1.081204</td>\n",
       "    </tr>\n",
       "    <tr>\n",
       "      <th>3</th>\n",
       "      <td>-0.374127</td>\n",
       "      <td>-0.123594</td>\n",
       "      <td>-1.205136</td>\n",
       "      <td>-0.278136</td>\n",
       "    </tr>\n",
       "    <tr>\n",
       "      <th>4</th>\n",
       "      <td>0.617546</td>\n",
       "      <td>-0.665821</td>\n",
       "      <td>-0.050814</td>\n",
       "      <td>-0.606118</td>\n",
       "    </tr>\n",
       "    <tr>\n",
       "      <th>5</th>\n",
       "      <td>0.327432</td>\n",
       "      <td>0.800046</td>\n",
       "      <td>-0.055583</td>\n",
       "      <td>-1.519910</td>\n",
       "    </tr>\n",
       "    <tr>\n",
       "      <th>6</th>\n",
       "      <td>0.048836</td>\n",
       "      <td>2.863249</td>\n",
       "      <td>-0.059614</td>\n",
       "      <td>-1.359210</td>\n",
       "    </tr>\n",
       "    <tr>\n",
       "      <th>7</th>\n",
       "      <td>0.891507</td>\n",
       "      <td>-1.995725</td>\n",
       "      <td>2.813932</td>\n",
       "      <td>0.164731</td>\n",
       "    </tr>\n",
       "  </tbody>\n",
       "</table>\n",
       "</div>"
      ],
      "text/plain": [
       "          A         B         C         D\n",
       "0 -0.556911  0.513247 -1.161760 -0.140053\n",
       "1 -1.010219 -0.741110 -1.362442  1.748832\n",
       "2  0.666514  1.671654 -0.141651 -1.081204\n",
       "3 -0.374127 -0.123594 -1.205136 -0.278136\n",
       "4  0.617546 -0.665821 -0.050814 -0.606118\n",
       "5  0.327432  0.800046 -0.055583 -1.519910\n",
       "6  0.048836  2.863249 -0.059614 -1.359210\n",
       "7  0.891507 -1.995725  2.813932  0.164731"
      ]
     },
     "execution_count": 202,
     "metadata": {},
     "output_type": "execute_result"
    }
   ],
   "source": [
    " df = pd.DataFrame(np.random.randn(8, 4), columns=['A','B','C','D'])\n",
    "df"
   ]
  },
  {
   "cell_type": "code",
   "execution_count": 206,
   "metadata": {
    "collapsed": false
   },
   "outputs": [
    {
     "data": {
      "text/html": [
       "<div>\n",
       "<table border=\"1\" class=\"dataframe\">\n",
       "  <thead>\n",
       "    <tr style=\"text-align: right;\">\n",
       "      <th></th>\n",
       "      <th>A</th>\n",
       "      <th>B</th>\n",
       "      <th>C</th>\n",
       "      <th>D</th>\n",
       "    </tr>\n",
       "  </thead>\n",
       "  <tbody>\n",
       "    <tr>\n",
       "      <th>0</th>\n",
       "      <td>-0.556911</td>\n",
       "      <td>0.513247</td>\n",
       "      <td>-1.161760</td>\n",
       "      <td>-0.140053</td>\n",
       "    </tr>\n",
       "    <tr>\n",
       "      <th>1</th>\n",
       "      <td>-1.010219</td>\n",
       "      <td>-0.741110</td>\n",
       "      <td>-1.362442</td>\n",
       "      <td>1.748832</td>\n",
       "    </tr>\n",
       "    <tr>\n",
       "      <th>2</th>\n",
       "      <td>0.666514</td>\n",
       "      <td>1.671654</td>\n",
       "      <td>-0.141651</td>\n",
       "      <td>-1.081204</td>\n",
       "    </tr>\n",
       "    <tr>\n",
       "      <th>3</th>\n",
       "      <td>-0.374127</td>\n",
       "      <td>-0.123594</td>\n",
       "      <td>-1.205136</td>\n",
       "      <td>-0.278136</td>\n",
       "    </tr>\n",
       "    <tr>\n",
       "      <th>4</th>\n",
       "      <td>0.617546</td>\n",
       "      <td>-0.665821</td>\n",
       "      <td>-0.050814</td>\n",
       "      <td>-0.606118</td>\n",
       "    </tr>\n",
       "    <tr>\n",
       "      <th>5</th>\n",
       "      <td>0.327432</td>\n",
       "      <td>0.800046</td>\n",
       "      <td>-0.055583</td>\n",
       "      <td>-1.519910</td>\n",
       "    </tr>\n",
       "    <tr>\n",
       "      <th>6</th>\n",
       "      <td>0.048836</td>\n",
       "      <td>2.863249</td>\n",
       "      <td>-0.059614</td>\n",
       "      <td>-1.359210</td>\n",
       "    </tr>\n",
       "    <tr>\n",
       "      <th>7</th>\n",
       "      <td>0.891507</td>\n",
       "      <td>-1.995725</td>\n",
       "      <td>2.813932</td>\n",
       "      <td>0.164731</td>\n",
       "    </tr>\n",
       "    <tr>\n",
       "      <th>8</th>\n",
       "      <td>-0.374127</td>\n",
       "      <td>-0.123594</td>\n",
       "      <td>-1.205136</td>\n",
       "      <td>-0.278136</td>\n",
       "    </tr>\n",
       "  </tbody>\n",
       "</table>\n",
       "</div>"
      ],
      "text/plain": [
       "          A         B         C         D\n",
       "0 -0.556911  0.513247 -1.161760 -0.140053\n",
       "1 -1.010219 -0.741110 -1.362442  1.748832\n",
       "2  0.666514  1.671654 -0.141651 -1.081204\n",
       "3 -0.374127 -0.123594 -1.205136 -0.278136\n",
       "4  0.617546 -0.665821 -0.050814 -0.606118\n",
       "5  0.327432  0.800046 -0.055583 -1.519910\n",
       "6  0.048836  2.863249 -0.059614 -1.359210\n",
       "7  0.891507 -1.995725  2.813932  0.164731\n",
       "8 -0.374127 -0.123594 -1.205136 -0.278136"
      ]
     },
     "execution_count": 206,
     "metadata": {},
     "output_type": "execute_result"
    }
   ],
   "source": [
    "s = df.iloc[3]\n",
    "df.append(s, ignore_index=True)"
   ]
  },
  {
   "cell_type": "code",
   "execution_count": 211,
   "metadata": {
    "collapsed": false
   },
   "outputs": [
    {
     "data": {
      "text/html": [
       "<div>\n",
       "<table border=\"1\" class=\"dataframe\">\n",
       "  <thead>\n",
       "    <tr style=\"text-align: right;\">\n",
       "      <th></th>\n",
       "      <th>A</th>\n",
       "      <th>B</th>\n",
       "      <th>C</th>\n",
       "      <th>D</th>\n",
       "    </tr>\n",
       "  </thead>\n",
       "  <tbody>\n",
       "    <tr>\n",
       "      <th>0</th>\n",
       "      <td>foo</td>\n",
       "      <td>one</td>\n",
       "      <td>-1.708198</td>\n",
       "      <td>1.897539</td>\n",
       "    </tr>\n",
       "    <tr>\n",
       "      <th>1</th>\n",
       "      <td>bar</td>\n",
       "      <td>one</td>\n",
       "      <td>-1.508160</td>\n",
       "      <td>-1.105506</td>\n",
       "    </tr>\n",
       "    <tr>\n",
       "      <th>2</th>\n",
       "      <td>foo</td>\n",
       "      <td>two</td>\n",
       "      <td>-0.395177</td>\n",
       "      <td>0.600843</td>\n",
       "    </tr>\n",
       "    <tr>\n",
       "      <th>3</th>\n",
       "      <td>bar</td>\n",
       "      <td>three</td>\n",
       "      <td>0.206129</td>\n",
       "      <td>-0.042201</td>\n",
       "    </tr>\n",
       "    <tr>\n",
       "      <th>4</th>\n",
       "      <td>foo</td>\n",
       "      <td>two</td>\n",
       "      <td>-0.608806</td>\n",
       "      <td>-0.623022</td>\n",
       "    </tr>\n",
       "    <tr>\n",
       "      <th>5</th>\n",
       "      <td>bar</td>\n",
       "      <td>two</td>\n",
       "      <td>1.064717</td>\n",
       "      <td>-0.322045</td>\n",
       "    </tr>\n",
       "    <tr>\n",
       "      <th>6</th>\n",
       "      <td>foo</td>\n",
       "      <td>one</td>\n",
       "      <td>-0.792286</td>\n",
       "      <td>0.579669</td>\n",
       "    </tr>\n",
       "    <tr>\n",
       "      <th>7</th>\n",
       "      <td>foo</td>\n",
       "      <td>three</td>\n",
       "      <td>0.787300</td>\n",
       "      <td>1.276340</td>\n",
       "    </tr>\n",
       "  </tbody>\n",
       "</table>\n",
       "</div>"
      ],
      "text/plain": [
       "     A      B         C         D\n",
       "0  foo    one -1.708198  1.897539\n",
       "1  bar    one -1.508160 -1.105506\n",
       "2  foo    two -0.395177  0.600843\n",
       "3  bar  three  0.206129 -0.042201\n",
       "4  foo    two -0.608806 -0.623022\n",
       "5  bar    two  1.064717 -0.322045\n",
       "6  foo    one -0.792286  0.579669\n",
       "7  foo  three  0.787300  1.276340"
      ]
     },
     "execution_count": 211,
     "metadata": {},
     "output_type": "execute_result"
    }
   ],
   "source": [
    "df = pd.DataFrame({'A' : ['foo', 'bar', 'foo', 'bar','foo', 'bar', 'foo', 'foo'],\n",
    "                       'B' : ['one', 'one', 'two', 'three','two', 'two', 'one', 'three'],\n",
    "                       'C' : np.random.randn(8),\n",
    "                       'D' : np.random.randn(8)})\n",
    "df\n"
   ]
  },
  {
   "cell_type": "code",
   "execution_count": 212,
   "metadata": {
    "collapsed": false
   },
   "outputs": [
    {
     "data": {
      "text/html": [
       "<div>\n",
       "<table border=\"1\" class=\"dataframe\">\n",
       "  <thead>\n",
       "    <tr style=\"text-align: right;\">\n",
       "      <th></th>\n",
       "      <th>C</th>\n",
       "      <th>D</th>\n",
       "    </tr>\n",
       "    <tr>\n",
       "      <th>A</th>\n",
       "      <th></th>\n",
       "      <th></th>\n",
       "    </tr>\n",
       "  </thead>\n",
       "  <tbody>\n",
       "    <tr>\n",
       "      <th>bar</th>\n",
       "      <td>-0.237314</td>\n",
       "      <td>-1.469752</td>\n",
       "    </tr>\n",
       "    <tr>\n",
       "      <th>foo</th>\n",
       "      <td>-2.717167</td>\n",
       "      <td>3.731369</td>\n",
       "    </tr>\n",
       "  </tbody>\n",
       "</table>\n",
       "</div>"
      ],
      "text/plain": [
       "            C         D\n",
       "A                      \n",
       "bar -0.237314 -1.469752\n",
       "foo -2.717167  3.731369"
      ]
     },
     "execution_count": 212,
     "metadata": {},
     "output_type": "execute_result"
    }
   ],
   "source": [
    "df.groupby('A').sum()"
   ]
  },
  {
   "cell_type": "code",
   "execution_count": 217,
   "metadata": {
    "collapsed": false
   },
   "outputs": [
    {
     "data": {
      "text/html": [
       "<div>\n",
       "<table border=\"1\" class=\"dataframe\">\n",
       "  <thead>\n",
       "    <tr style=\"text-align: right;\">\n",
       "      <th></th>\n",
       "      <th></th>\n",
       "      <th>C</th>\n",
       "      <th>D</th>\n",
       "    </tr>\n",
       "    <tr>\n",
       "      <th>A</th>\n",
       "      <th>B</th>\n",
       "      <th></th>\n",
       "      <th></th>\n",
       "    </tr>\n",
       "  </thead>\n",
       "  <tbody>\n",
       "    <tr>\n",
       "      <th rowspan=\"3\" valign=\"top\">bar</th>\n",
       "      <th>one</th>\n",
       "      <td>-1.508160</td>\n",
       "      <td>-1.105506</td>\n",
       "    </tr>\n",
       "    <tr>\n",
       "      <th>three</th>\n",
       "      <td>0.206129</td>\n",
       "      <td>-0.042201</td>\n",
       "    </tr>\n",
       "    <tr>\n",
       "      <th>two</th>\n",
       "      <td>1.064717</td>\n",
       "      <td>-0.322045</td>\n",
       "    </tr>\n",
       "    <tr>\n",
       "      <th rowspan=\"3\" valign=\"top\">foo</th>\n",
       "      <th>one</th>\n",
       "      <td>-2.500484</td>\n",
       "      <td>2.477207</td>\n",
       "    </tr>\n",
       "    <tr>\n",
       "      <th>three</th>\n",
       "      <td>0.787300</td>\n",
       "      <td>1.276340</td>\n",
       "    </tr>\n",
       "    <tr>\n",
       "      <th>two</th>\n",
       "      <td>-1.003983</td>\n",
       "      <td>-0.022178</td>\n",
       "    </tr>\n",
       "  </tbody>\n",
       "</table>\n",
       "</div>"
      ],
      "text/plain": [
       "                  C         D\n",
       "A   B                        \n",
       "bar one   -1.508160 -1.105506\n",
       "    three  0.206129 -0.042201\n",
       "    two    1.064717 -0.322045\n",
       "foo one   -2.500484  2.477207\n",
       "    three  0.787300  1.276340\n",
       "    two   -1.003983 -0.022178"
      ]
     },
     "execution_count": 217,
     "metadata": {},
     "output_type": "execute_result"
    }
   ],
   "source": [
    "df.groupby(['A','B']).sum()"
   ]
  },
  {
   "cell_type": "code",
   "execution_count": 219,
   "metadata": {
    "collapsed": false
   },
   "outputs": [
    {
     "data": {
      "text/plain": [
       "[('bar', 'one'),\n",
       " ('bar', 'two'),\n",
       " ('baz', 'one'),\n",
       " ('baz', 'two'),\n",
       " ('foo', 'one'),\n",
       " ('foo', 'two'),\n",
       " ('qux', 'one'),\n",
       " ('qux', 'two')]"
      ]
     },
     "execution_count": 219,
     "metadata": {},
     "output_type": "execute_result"
    }
   ],
   "source": [
    "tuples = list(zip(*[['bar', 'bar', 'baz', 'baz','foo', 'foo', 'qux', 'qux'],['one', 'two', 'one', 'two','one', 'two', 'one', 'two']]))\n",
    "tuples"
   ]
  },
  {
   "cell_type": "code",
   "execution_count": 220,
   "metadata": {
    "collapsed": false
   },
   "outputs": [
    {
     "data": {
      "text/plain": [
       "MultiIndex(levels=[['bar', 'baz', 'foo', 'qux'], ['one', 'two']],\n",
       "           labels=[[0, 0, 1, 1, 2, 2, 3, 3], [0, 1, 0, 1, 0, 1, 0, 1]],\n",
       "           names=['first', 'second'])"
      ]
     },
     "execution_count": 220,
     "metadata": {},
     "output_type": "execute_result"
    }
   ],
   "source": [
    "index = pd.MultiIndex.from_tuples(tuples, names=['first', 'second'])\n",
    "index"
   ]
  },
  {
   "cell_type": "code",
   "execution_count": 221,
   "metadata": {
    "collapsed": false
   },
   "outputs": [
    {
     "data": {
      "text/html": [
       "<div>\n",
       "<table border=\"1\" class=\"dataframe\">\n",
       "  <thead>\n",
       "    <tr style=\"text-align: right;\">\n",
       "      <th></th>\n",
       "      <th></th>\n",
       "      <th>A</th>\n",
       "      <th>B</th>\n",
       "    </tr>\n",
       "    <tr>\n",
       "      <th>first</th>\n",
       "      <th>second</th>\n",
       "      <th></th>\n",
       "      <th></th>\n",
       "    </tr>\n",
       "  </thead>\n",
       "  <tbody>\n",
       "    <tr>\n",
       "      <th rowspan=\"2\" valign=\"top\">bar</th>\n",
       "      <th>one</th>\n",
       "      <td>-1.386079</td>\n",
       "      <td>0.039940</td>\n",
       "    </tr>\n",
       "    <tr>\n",
       "      <th>two</th>\n",
       "      <td>0.257594</td>\n",
       "      <td>0.866367</td>\n",
       "    </tr>\n",
       "    <tr>\n",
       "      <th rowspan=\"2\" valign=\"top\">baz</th>\n",
       "      <th>one</th>\n",
       "      <td>-0.378905</td>\n",
       "      <td>-2.425962</td>\n",
       "    </tr>\n",
       "    <tr>\n",
       "      <th>two</th>\n",
       "      <td>1.110257</td>\n",
       "      <td>-0.258173</td>\n",
       "    </tr>\n",
       "    <tr>\n",
       "      <th rowspan=\"2\" valign=\"top\">foo</th>\n",
       "      <th>one</th>\n",
       "      <td>-0.070159</td>\n",
       "      <td>-0.042626</td>\n",
       "    </tr>\n",
       "    <tr>\n",
       "      <th>two</th>\n",
       "      <td>-0.988782</td>\n",
       "      <td>-1.695079</td>\n",
       "    </tr>\n",
       "    <tr>\n",
       "      <th rowspan=\"2\" valign=\"top\">qux</th>\n",
       "      <th>one</th>\n",
       "      <td>0.537163</td>\n",
       "      <td>1.692124</td>\n",
       "    </tr>\n",
       "    <tr>\n",
       "      <th>two</th>\n",
       "      <td>0.932604</td>\n",
       "      <td>-0.043770</td>\n",
       "    </tr>\n",
       "  </tbody>\n",
       "</table>\n",
       "</div>"
      ],
      "text/plain": [
       "                     A         B\n",
       "first second                    \n",
       "bar   one    -1.386079  0.039940\n",
       "      two     0.257594  0.866367\n",
       "baz   one    -0.378905 -2.425962\n",
       "      two     1.110257 -0.258173\n",
       "foo   one    -0.070159 -0.042626\n",
       "      two    -0.988782 -1.695079\n",
       "qux   one     0.537163  1.692124\n",
       "      two     0.932604 -0.043770"
      ]
     },
     "execution_count": 221,
     "metadata": {},
     "output_type": "execute_result"
    }
   ],
   "source": [
    "df = pd.DataFrame(np.random.randn(8, 2), index=index, columns=['A', 'B'])\n",
    "df"
   ]
  }
 ],
 "metadata": {
  "anaconda-cloud": {},
  "kernelspec": {
   "display_name": "Python [default]",
   "language": "python",
   "name": "python3"
  },
  "language_info": {
   "codemirror_mode": {
    "name": "ipython",
    "version": 3
   },
   "file_extension": ".py",
   "mimetype": "text/x-python",
   "name": "python",
   "nbconvert_exporter": "python",
   "pygments_lexer": "ipython3",
   "version": "3.5.2"
  }
 },
 "nbformat": 4,
 "nbformat_minor": 2
}
